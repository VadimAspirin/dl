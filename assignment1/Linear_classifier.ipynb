{
 "cells": [
  {
   "cell_type": "code",
   "execution_count": 231,
   "metadata": {},
   "outputs": [
    {
     "name": "stdout",
     "output_type": "stream",
     "text": [
      "The autoreload extension is already loaded. To reload it, use:\n",
      "  %reload_ext autoreload\n"
     ]
    }
   ],
   "source": [
    "import numpy as np\n",
    "import matplotlib.pyplot as plt\n",
    "\n",
    "%matplotlib inline\n",
    "\n",
    "%load_ext autoreload\n",
    "%autoreload 2"
   ]
  },
  {
   "cell_type": "code",
   "execution_count": 15,
   "metadata": {},
   "outputs": [],
   "source": [
    "from dataset import load_svhn, random_split_train_val\n",
    "from gradient_check import check_gradient\n",
    "from metrics import multiclass_accuracy \n",
    "import linear_classifer"
   ]
  },
  {
   "cell_type": "code",
   "execution_count": 16,
   "metadata": {},
   "outputs": [],
   "source": [
    "def prepare_for_linear_classifier(train_X, test_X):\n",
    "    train_flat = train_X.reshape(train_X.shape[0], -1).astype(np.float) / 255.0\n",
    "    test_flat = test_X.reshape(test_X.shape[0], -1).astype(np.float) / 255.0\n",
    "    \n",
    "    # Subtract mean\n",
    "    mean_image = np.mean(train_flat, axis = 0)\n",
    "    train_flat -= mean_image\n",
    "    test_flat -= mean_image\n",
    "    \n",
    "    # Add another channel with ones as a bias term\n",
    "    train_flat_with_ones = np.hstack([train_flat, np.ones((train_X.shape[0], 1))])\n",
    "    test_flat_with_ones = np.hstack([test_flat, np.ones((test_X.shape[0], 1))])    \n",
    "    return train_flat_with_ones, test_flat_with_ones\n",
    "    \n",
    "train_X, train_y, test_X, test_y = load_svhn(\"../data\", max_train=10000, max_test=1000)    \n",
    "train_X, test_X = prepare_for_linear_classifier(train_X, test_X)\n",
    "# Split train into train and val\n",
    "train_X, train_y, val_X, val_y = random_split_train_val(train_X, train_y, num_val = 1000)"
   ]
  },
  {
   "cell_type": "code",
   "execution_count": 17,
   "metadata": {
    "scrolled": true
   },
   "outputs": [
    {
     "name": "stdout",
     "output_type": "stream",
     "text": [
      "Gradient check passed!\n",
      "Gradient check passed!\n",
      "Gradient check passed!\n"
     ]
    },
    {
     "data": {
      "text/plain": [
       "True"
      ]
     },
     "execution_count": 17,
     "metadata": {},
     "output_type": "execute_result"
    }
   ],
   "source": [
    "def square(x):\n",
    "    return float(x*x), 2*x\n",
    "\n",
    "check_gradient(square, np.array([3.0]))\n",
    "\n",
    "def array_sum(x):\n",
    "    assert x.shape == (2,), x.shape\n",
    "    return np.sum(x), np.ones_like(x)\n",
    "\n",
    "check_gradient(array_sum, np.array([3.0, 2.0]))\n",
    "\n",
    "def array_2d_sum(x):\n",
    "    assert x.shape == (2,2)\n",
    "    return np.sum(x), np.ones_like(x)\n",
    "\n",
    "check_gradient(array_2d_sum, np.array([[3.0, 2.0], [1.0, 0.0]]))"
   ]
  },
  {
   "cell_type": "code",
   "execution_count": 18,
   "metadata": {},
   "outputs": [],
   "source": [
    "# TODO Implement softmax and cross-entropy for single sample\n",
    "probs = linear_classifer.softmax(np.array([-10, 0, 10]))\n",
    "\n",
    "# Make sure it works for big numbers too!\n",
    "probs = linear_classifer.softmax(np.array([1000, 0, 0]))\n",
    "assert np.isclose(probs[0], 1.0)"
   ]
  },
  {
   "cell_type": "code",
   "execution_count": 19,
   "metadata": {},
   "outputs": [
    {
     "data": {
      "text/plain": [
       "5.006760443547122"
      ]
     },
     "execution_count": 19,
     "metadata": {},
     "output_type": "execute_result"
    }
   ],
   "source": [
    "probs = linear_classifer.softmax(np.array([-5, 0, 5]))\n",
    "linear_classifer.cross_entropy_loss(probs, 1)"
   ]
  },
  {
   "cell_type": "code",
   "execution_count": 20,
   "metadata": {},
   "outputs": [
    {
     "name": "stdout",
     "output_type": "stream",
     "text": [
      "Gradient check passed!\n"
     ]
    },
    {
     "data": {
      "text/plain": [
       "True"
      ]
     },
     "execution_count": 20,
     "metadata": {},
     "output_type": "execute_result"
    }
   ],
   "source": [
    "# TODO Implement combined function or softmax and cross entropy and produces gradient\n",
    "loss, grad = linear_classifer.softmax_with_cross_entropy(np.array([1, 0, 0]), 1)\n",
    "check_gradient(lambda x: linear_classifer.softmax_with_cross_entropy(x, 1), np.array([1, 0, 0], np.float))"
   ]
  },
  {
   "cell_type": "code",
   "execution_count": 21,
   "metadata": {},
   "outputs": [
    {
     "name": "stdout",
     "output_type": "stream",
     "text": [
      "Gradient check passed!\n",
      "Gradient check passed!\n"
     ]
    }
   ],
   "source": [
    "# TODO Extend combined function so it can receive a 2d array with batch of samples\n",
    "np.random.seed(42)\n",
    "# Test batch_size = 1\n",
    "num_classes = 4\n",
    "batch_size = 1\n",
    "predictions = np.random.randint(-1, 3, size=(batch_size, num_classes)).astype(np.float)\n",
    "target_index = np.random.randint(0, num_classes, size=(batch_size, 1)).astype(np.int)\n",
    "check_gradient(lambda x: linear_classifer.softmax_with_cross_entropy(x, target_index), predictions)\n",
    "\n",
    "# Test batch_size = 3\n",
    "num_classes = 4\n",
    "batch_size = 3\n",
    "predictions = np.random.randint(-1, 3, size=(batch_size, num_classes)).astype(np.float)\n",
    "target_index = np.random.randint(0, num_classes, size=(batch_size, 1)).astype(np.int)\n",
    "check_gradient(lambda x: linear_classifer.softmax_with_cross_entropy(x, target_index), predictions)\n",
    "\n",
    "# Make sure maximum subtraction for numberic stability is done separately for every sample in the batch\n",
    "probs = linear_classifer.softmax(np.array([[20,0,0], [1000, 0, 0]]))\n",
    "assert np.all(np.isclose(probs[:, 0], 1.0))"
   ]
  },
  {
   "cell_type": "code",
   "execution_count": 22,
   "metadata": {
    "scrolled": true
   },
   "outputs": [
    {
     "name": "stdout",
     "output_type": "stream",
     "text": [
      "Gradient check passed!\n"
     ]
    },
    {
     "data": {
      "text/plain": [
       "True"
      ]
     },
     "execution_count": 22,
     "metadata": {},
     "output_type": "execute_result"
    }
   ],
   "source": [
    "# TODO Implement linear_softmax function that uses softmax with cross-entropy for linear classifier\n",
    "batch_size = 2\n",
    "num_classes = 2\n",
    "num_features = 3\n",
    "np.random.seed(42)\n",
    "W = np.random.randint(-1, 3, size=(num_features, num_classes)).astype(np.float)\n",
    "X = np.random.randint(-1, 3, size=(batch_size, num_features)).astype(np.float)\n",
    "target_index = np.ones(batch_size, dtype=np.int)\n",
    "\n",
    "loss, dW = linear_classifer.linear_softmax(X, W, target_index)\n",
    "check_gradient(lambda w: linear_classifer.linear_softmax(X, w, target_index), W)"
   ]
  },
  {
   "cell_type": "code",
   "execution_count": 23,
   "metadata": {},
   "outputs": [
    {
     "name": "stdout",
     "output_type": "stream",
     "text": [
      "Gradient check passed!\n"
     ]
    },
    {
     "data": {
      "text/plain": [
       "True"
      ]
     },
     "execution_count": 23,
     "metadata": {},
     "output_type": "execute_result"
    }
   ],
   "source": [
    "# TODO Implement l2_regularization function that implements loss for L2 regularization\n",
    "linear_classifer.l2_regularization(W, 0.01)\n",
    "check_gradient(lambda w: linear_classifer.l2_regularization(w, 0.01), W)"
   ]
  },
  {
   "cell_type": "code",
   "execution_count": 107,
   "metadata": {},
   "outputs": [
    {
     "name": "stdout",
     "output_type": "stream",
     "text": [
      "Epoch 0, loss: 2.396919\n",
      "Epoch 1, loss: 2.330424\n",
      "Epoch 2, loss: 2.311241\n",
      "Epoch 3, loss: 2.304605\n",
      "Epoch 4, loss: 2.302070\n",
      "Epoch 5, loss: 2.301581\n",
      "Epoch 6, loss: 2.301429\n",
      "Epoch 7, loss: 2.302322\n",
      "Epoch 8, loss: 2.302208\n",
      "Epoch 9, loss: 2.301598\n"
     ]
    }
   ],
   "source": [
    "# TODO: Implement LinearSoftmaxClassifier.fit function\n",
    "classifier = linear_classifer.LinearSoftmaxClassifier()\n",
    "loss_history = classifier.fit(train_X, train_y, epochs=10, learning_rate=1e-3, batch_size=300, reg=1e1)"
   ]
  },
  {
   "cell_type": "code",
   "execution_count": 108,
   "metadata": {},
   "outputs": [
    {
     "data": {
      "text/plain": [
       "[<matplotlib.lines.Line2D at 0x19ba6f8bf60>]"
      ]
     },
     "execution_count": 108,
     "metadata": {},
     "output_type": "execute_result"
    },
    {
     "data": {
      "image/png": "[encoded data removed]",
      "text/plain": [
       "<Figure size 432x288 with 1 Axes>"
      ]
     },
     "metadata": {
      "needs_background": "light"
     },
     "output_type": "display_data"
    }
   ],
   "source": [
    "# let's look at the loss history!\n",
    "plt.plot(loss_history)"
   ]
  },
  {
   "cell_type": "code",
   "execution_count": 91,
   "metadata": {
    "scrolled": true
   },
   "outputs": [
    {
     "name": "stdout",
     "output_type": "stream",
     "text": [
      "Accuracy:  0.121\n",
      "Epoch 0, loss: 2.302215\n",
      "Epoch 1, loss: 2.301985\n",
      "Epoch 2, loss: 2.302737\n",
      "Epoch 3, loss: 2.300975\n",
      "Epoch 4, loss: 2.301442\n",
      "Epoch 5, loss: 2.302421\n",
      "Epoch 6, loss: 2.301731\n",
      "Epoch 7, loss: 2.302419\n",
      "Epoch 8, loss: 2.302720\n",
      "Epoch 9, loss: 2.302479\n",
      "Epoch 10, loss: 2.301701\n",
      "Epoch 11, loss: 2.302557\n",
      "Epoch 12, loss: 2.302107\n",
      "Epoch 13, loss: 2.301509\n",
      "Epoch 14, loss: 2.302106\n",
      "Epoch 15, loss: 2.301887\n",
      "Epoch 16, loss: 2.301371\n",
      "Epoch 17, loss: 2.302466\n",
      "Epoch 18, loss: 2.302819\n",
      "Epoch 19, loss: 2.301781\n",
      "Epoch 20, loss: 2.301586\n",
      "Epoch 21, loss: 2.302168\n",
      "Epoch 22, loss: 2.301653\n",
      "Epoch 23, loss: 2.301711\n",
      "Epoch 24, loss: 2.302092\n",
      "Epoch 25, loss: 2.302354\n",
      "Epoch 26, loss: 2.302117\n",
      "Epoch 27, loss: 2.301351\n",
      "Epoch 28, loss: 2.303007\n",
      "Epoch 29, loss: 2.301711\n",
      "Epoch 30, loss: 2.301495\n",
      "Epoch 31, loss: 2.302072\n",
      "Epoch 32, loss: 2.301860\n",
      "Epoch 33, loss: 2.301866\n",
      "Epoch 34, loss: 2.302525\n",
      "Epoch 35, loss: 2.300940\n",
      "Epoch 36, loss: 2.302256\n",
      "Epoch 37, loss: 2.302481\n",
      "Epoch 38, loss: 2.302122\n",
      "Epoch 39, loss: 2.302242\n",
      "Epoch 40, loss: 2.302768\n",
      "Epoch 41, loss: 2.302298\n",
      "Epoch 42, loss: 2.301321\n",
      "Epoch 43, loss: 2.302052\n",
      "Epoch 44, loss: 2.302299\n",
      "Epoch 45, loss: 2.301673\n",
      "Epoch 46, loss: 2.301888\n",
      "Epoch 47, loss: 2.301441\n",
      "Epoch 48, loss: 2.302600\n",
      "Epoch 49, loss: 2.302238\n",
      "Epoch 50, loss: 2.301242\n",
      "Epoch 51, loss: 2.301960\n",
      "Epoch 52, loss: 2.301937\n",
      "Epoch 53, loss: 2.301906\n",
      "Epoch 54, loss: 2.301313\n",
      "Epoch 55, loss: 2.302563\n",
      "Epoch 56, loss: 2.301668\n",
      "Epoch 57, loss: 2.301539\n",
      "Epoch 58, loss: 2.300956\n",
      "Epoch 59, loss: 2.301248\n",
      "Epoch 60, loss: 2.301482\n",
      "Epoch 61, loss: 2.301908\n",
      "Epoch 62, loss: 2.301043\n",
      "Epoch 63, loss: 2.302257\n",
      "Epoch 64, loss: 2.301866\n",
      "Epoch 65, loss: 2.302444\n",
      "Epoch 66, loss: 2.302195\n",
      "Epoch 67, loss: 2.302313\n",
      "Epoch 68, loss: 2.302240\n",
      "Epoch 69, loss: 2.302248\n",
      "Epoch 70, loss: 2.301995\n",
      "Epoch 71, loss: 2.302011\n",
      "Epoch 72, loss: 2.300760\n",
      "Epoch 73, loss: 2.301580\n",
      "Epoch 74, loss: 2.302516\n",
      "Epoch 75, loss: 2.301733\n",
      "Epoch 76, loss: 2.302668\n",
      "Epoch 77, loss: 2.301460\n",
      "Epoch 78, loss: 2.301527\n",
      "Epoch 79, loss: 2.301138\n",
      "Epoch 80, loss: 2.301720\n",
      "Epoch 81, loss: 2.301783\n",
      "Epoch 82, loss: 2.302233\n",
      "Epoch 83, loss: 2.302320\n",
      "Epoch 84, loss: 2.301467\n",
      "Epoch 85, loss: 2.302111\n",
      "Epoch 86, loss: 2.301331\n",
      "Epoch 87, loss: 2.301283\n",
      "Epoch 88, loss: 2.302747\n",
      "Epoch 89, loss: 2.300791\n",
      "Epoch 90, loss: 2.301757\n",
      "Epoch 91, loss: 2.301569\n",
      "Epoch 92, loss: 2.302460\n",
      "Epoch 93, loss: 2.301264\n",
      "Epoch 94, loss: 2.301345\n",
      "Epoch 95, loss: 2.302924\n",
      "Epoch 96, loss: 2.302447\n",
      "Epoch 97, loss: 2.302809\n",
      "Epoch 98, loss: 2.301505\n",
      "Epoch 99, loss: 2.302256\n",
      "Accuracy after training for 100 epochs:  0.126\n"
     ]
    }
   ],
   "source": [
    "# Let's check how it performs on validation set\n",
    "pred = classifier.predict(val_X)\n",
    "accuracy = multiclass_accuracy(pred, val_y)\n",
    "print(\"Accuracy: \", accuracy)\n",
    "\n",
    "# Now, let's train more and see if it performs better\n",
    "loss_history = classifier.fit(train_X, train_y, epochs=100, learning_rate=1e-3, batch_size=300, reg=1e1)\n",
    "pred = classifier.predict(val_X)\n",
    "accuracy = multiclass_accuracy(pred, val_y)\n",
    "print(\"Accuracy after training for 100 epochs: \", accuracy)"
   ]
  },
  {
   "cell_type": "code",
   "execution_count": 242,
   "metadata": {
    "scrolled": true
   },
   "outputs": [
    {
     "name": "stdout",
     "output_type": "stream",
     "text": [
      "Epoch 0, loss: 2.294934\n",
      "Epoch 1, loss: 2.263920\n",
      "Epoch 2, loss: 2.271790\n",
      "Epoch 3, loss: 2.256176\n",
      "Epoch 4, loss: 2.256069\n",
      "Epoch 5, loss: 2.287474\n",
      "Epoch 6, loss: 2.272054\n",
      "Epoch 7, loss: 2.274345\n",
      "Epoch 8, loss: 2.277405\n",
      "Epoch 9, loss: 2.274664\n",
      "learning_rate: 0.1, reg_strength: 0.1, accuracy: 0.18833333333333332\n",
      "Epoch 0, loss: 2.280240\n",
      "Epoch 1, loss: 2.229189\n",
      "Epoch 2, loss: 2.220998\n",
      "Epoch 3, loss: 2.188020\n",
      "Epoch 4, loss: 2.176676\n",
      "Epoch 5, loss: 2.231796\n",
      "Epoch 6, loss: 2.190227\n",
      "Epoch 7, loss: 2.202590\n",
      "Epoch 8, loss: 2.200088\n",
      "Epoch 9, loss: 2.192591\n",
      "learning_rate: 0.1, reg_strength: 0.01, accuracy: 0.2222222222222222\n",
      "Epoch 0, loss: 2.278178\n",
      "Epoch 1, loss: 2.223304\n",
      "Epoch 2, loss: 2.210905\n",
      "Epoch 3, loss: 2.172889\n",
      "Epoch 4, loss: 2.157263\n",
      "Epoch 5, loss: 2.214601\n",
      "Epoch 6, loss: 2.165586\n",
      "Epoch 7, loss: 2.178968\n",
      "Epoch 8, loss: 2.172063\n",
      "Epoch 9, loss: 2.162317\n",
      "learning_rate: 0.1, reg_strength: 0.001, accuracy: 0.23\n",
      "Epoch 0, loss: 2.277964\n",
      "Epoch 1, loss: 2.222678\n",
      "Epoch 2, loss: 2.209807\n",
      "Epoch 3, loss: 2.171210\n",
      "Epoch 4, loss: 2.155068\n",
      "Epoch 5, loss: 2.212577\n",
      "Epoch 6, loss: 2.162674\n",
      "Epoch 7, loss: 2.176101\n",
      "Epoch 8, loss: 2.168588\n",
      "Epoch 9, loss: 2.158508\n",
      "learning_rate: 0.1, reg_strength: 0.0001, accuracy: 0.23055555555555557\n",
      "Epoch 0, loss: 2.277943\n",
      "Epoch 1, loss: 2.222615\n",
      "Epoch 2, loss: 2.209696\n",
      "Epoch 3, loss: 2.171041\n",
      "Epoch 4, loss: 2.154846\n",
      "Epoch 5, loss: 2.212372\n",
      "Epoch 6, loss: 2.162378\n",
      "Epoch 7, loss: 2.175808\n",
      "Epoch 8, loss: 2.168233\n",
      "Epoch 9, loss: 2.158117\n",
      "learning_rate: 0.1, reg_strength: 1e-05, accuracy: 0.23055555555555557\n",
      "Epoch 0, loss: 2.277941\n",
      "Epoch 1, loss: 2.222609\n",
      "Epoch 2, loss: 2.209685\n",
      "Epoch 3, loss: 2.171024\n",
      "Epoch 4, loss: 2.154823\n",
      "Epoch 5, loss: 2.212351\n",
      "Epoch 6, loss: 2.162348\n",
      "Epoch 7, loss: 2.175779\n",
      "Epoch 8, loss: 2.168197\n",
      "Epoch 9, loss: 2.158078\n",
      "learning_rate: 0.1, reg_strength: 1e-06, accuracy: 0.23055555555555557\n",
      "Epoch 0, loss: 2.301290\n",
      "Epoch 1, loss: 2.289152\n",
      "Epoch 2, loss: 2.289756\n",
      "Epoch 3, loss: 2.282886\n",
      "Epoch 4, loss: 2.276329\n",
      "Epoch 5, loss: 2.283659\n",
      "Epoch 6, loss: 2.274435\n",
      "Epoch 7, loss: 2.276896\n",
      "Epoch 8, loss: 2.268988\n",
      "Epoch 9, loss: 2.269143\n",
      "learning_rate: 0.01, reg_strength: 0.1, accuracy: 0.20944444444444443\n",
      "Epoch 0, loss: 2.298534\n",
      "Epoch 1, loss: 2.285710\n",
      "Epoch 2, loss: 2.285427\n",
      "Epoch 3, loss: 2.277199\n",
      "Epoch 4, loss: 2.268675\n",
      "Epoch 5, loss: 2.275781\n",
      "Epoch 6, loss: 2.263663\n",
      "Epoch 7, loss: 2.264961\n",
      "Epoch 8, loss: 2.254273\n",
      "Epoch 9, loss: 2.252764\n",
      "learning_rate: 0.01, reg_strength: 0.01, accuracy: 0.21222222222222223\n",
      "Epoch 0, loss: 2.298233\n",
      "Epoch 1, loss: 2.285312\n",
      "Epoch 2, loss: 2.284905\n",
      "Epoch 3, loss: 2.276497\n",
      "Epoch 4, loss: 2.267717\n",
      "Epoch 5, loss: 2.274746\n",
      "Epoch 6, loss: 2.262245\n",
      "Epoch 7, loss: 2.263340\n",
      "Epoch 8, loss: 2.252257\n",
      "Epoch 9, loss: 2.250462\n",
      "learning_rate: 0.01, reg_strength: 0.001, accuracy: 0.21166666666666667\n",
      "Epoch 0, loss: 2.298203\n",
      "Epoch 1, loss: 2.285272\n",
      "Epoch 2, loss: 2.284852\n",
      "Epoch 3, loss: 2.276425\n",
      "Epoch 4, loss: 2.267619\n",
      "Epoch 5, loss: 2.274639\n",
      "Epoch 6, loss: 2.262099\n",
      "Epoch 7, loss: 2.263172\n",
      "Epoch 8, loss: 2.252049\n",
      "Epoch 9, loss: 2.250223\n",
      "learning_rate: 0.01, reg_strength: 0.0001, accuracy: 0.21166666666666667\n",
      "Epoch 0, loss: 2.298200\n",
      "Epoch 1, loss: 2.285268\n",
      "Epoch 2, loss: 2.284847\n",
      "Epoch 3, loss: 2.276418\n",
      "Epoch 4, loss: 2.267609\n",
      "Epoch 5, loss: 2.274629\n",
      "Epoch 6, loss: 2.262085\n",
      "Epoch 7, loss: 2.263155\n",
      "Epoch 8, loss: 2.252028\n",
      "Epoch 9, loss: 2.250199\n",
      "learning_rate: 0.01, reg_strength: 1e-05, accuracy: 0.21166666666666667\n",
      "Epoch 0, loss: 2.298199\n",
      "Epoch 1, loss: 2.285268\n",
      "Epoch 2, loss: 2.284846\n",
      "Epoch 3, loss: 2.276417\n",
      "Epoch 4, loss: 2.267608\n",
      "Epoch 5, loss: 2.274627\n",
      "Epoch 6, loss: 2.262083\n",
      "Epoch 7, loss: 2.263154\n",
      "Epoch 8, loss: 2.252026\n",
      "Epoch 9, loss: 2.250196\n",
      "learning_rate: 0.01, reg_strength: 1e-06, accuracy: 0.21166666666666667\n",
      "Epoch 0, loss: 2.305049\n",
      "Epoch 1, loss: 2.302457\n",
      "Epoch 2, loss: 2.303224\n",
      "Epoch 3, loss: 2.301426\n",
      "Epoch 4, loss: 2.300234\n",
      "Epoch 5, loss: 2.301741\n",
      "Epoch 6, loss: 2.298774\n",
      "Epoch 7, loss: 2.300201\n",
      "Epoch 8, loss: 2.298853\n",
      "Epoch 9, loss: 2.298025\n",
      "learning_rate: 0.001, reg_strength: 0.1, accuracy: 0.16722222222222222\n",
      "Epoch 0, loss: 2.302316\n",
      "Epoch 1, loss: 2.299733\n",
      "Epoch 2, loss: 2.300514\n",
      "Epoch 3, loss: 2.298708\n",
      "Epoch 4, loss: 2.297501\n",
      "Epoch 5, loss: 2.299044\n",
      "Epoch 6, loss: 2.296026\n",
      "Epoch 7, loss: 2.297459\n",
      "Epoch 8, loss: 2.296087\n",
      "Epoch 9, loss: 2.295231\n",
      "learning_rate: 0.001, reg_strength: 0.01, accuracy: 0.16777777777777778\n",
      "Epoch 0, loss: 2.302040\n",
      "Epoch 1, loss: 2.299456\n",
      "Epoch 2, loss: 2.300235\n",
      "Epoch 3, loss: 2.298426\n",
      "Epoch 4, loss: 2.297215\n",
      "Epoch 5, loss: 2.298759\n",
      "Epoch 6, loss: 2.295733\n",
      "Epoch 7, loss: 2.297164\n",
      "Epoch 8, loss: 2.295787\n",
      "Epoch 9, loss: 2.294926\n",
      "learning_rate: 0.001, reg_strength: 0.001, accuracy: 0.16722222222222222\n",
      "Epoch 0, loss: 2.302013\n",
      "Epoch 1, loss: 2.299428\n",
      "Epoch 2, loss: 2.300207\n",
      "Epoch 3, loss: 2.298398\n",
      "Epoch 4, loss: 2.297187\n",
      "Epoch 5, loss: 2.298730\n",
      "Epoch 6, loss: 2.295704\n",
      "Epoch 7, loss: 2.297135\n",
      "Epoch 8, loss: 2.295757\n",
      "Epoch 9, loss: 2.294896\n",
      "learning_rate: 0.001, reg_strength: 0.0001, accuracy: 0.16722222222222222\n",
      "Epoch 0, loss: 2.302010\n",
      "Epoch 1, loss: 2.299425\n",
      "Epoch 2, loss: 2.300204\n",
      "Epoch 3, loss: 2.298395\n",
      "Epoch 4, loss: 2.297184\n",
      "Epoch 5, loss: 2.298727\n",
      "Epoch 6, loss: 2.295701\n",
      "Epoch 7, loss: 2.297132\n",
      "Epoch 8, loss: 2.295754\n",
      "Epoch 9, loss: 2.294892\n",
      "learning_rate: 0.001, reg_strength: 1e-05, accuracy: 0.16722222222222222\n",
      "Epoch 0, loss: 2.302009\n",
      "Epoch 1, loss: 2.299425\n",
      "Epoch 2, loss: 2.300204\n",
      "Epoch 3, loss: 2.298395\n",
      "Epoch 4, loss: 2.297183\n",
      "Epoch 5, loss: 2.298727\n",
      "Epoch 6, loss: 2.295701\n",
      "Epoch 7, loss: 2.297131\n",
      "Epoch 8, loss: 2.295753\n",
      "Epoch 9, loss: 2.294892\n",
      "learning_rate: 0.001, reg_strength: 1e-06, accuracy: 0.16722222222222222\n",
      "Epoch 0, loss: 2.305455\n",
      "Epoch 1, loss: 2.304578\n",
      "Epoch 2, loss: 2.304689\n",
      "Epoch 3, loss: 2.303974\n",
      "Epoch 4, loss: 2.303762\n",
      "Epoch 5, loss: 2.305395\n",
      "Epoch 6, loss: 2.304951\n",
      "Epoch 7, loss: 2.304624\n",
      "Epoch 8, loss: 2.304777\n",
      "Epoch 9, loss: 2.305020\n",
      "learning_rate: 0.0001, reg_strength: 0.1, accuracy: 0.12444444444444444\n",
      "Epoch 0, loss: 2.302701\n",
      "Epoch 1, loss: 2.301826\n",
      "Epoch 2, loss: 2.301939\n",
      "Epoch 3, loss: 2.301226\n",
      "Epoch 4, loss: 2.301015\n",
      "Epoch 5, loss: 2.302654\n",
      "Epoch 6, loss: 2.302212\n",
      "Epoch 7, loss: 2.301886\n",
      "Epoch 8, loss: 2.302042\n",
      "Epoch 9, loss: 2.302289\n",
      "learning_rate: 0.0001, reg_strength: 0.01, accuracy: 0.12444444444444444\n",
      "Epoch 0, loss: 2.302425\n",
      "Epoch 1, loss: 2.301550\n",
      "Epoch 2, loss: 2.301663\n",
      "Epoch 3, loss: 2.300950\n",
      "Epoch 4, loss: 2.300739\n",
      "Epoch 5, loss: 2.302379\n",
      "Epoch 6, loss: 2.301937\n",
      "Epoch 7, loss: 2.301610\n",
      "Epoch 8, loss: 2.301766\n",
      "Epoch 9, loss: 2.302013\n",
      "learning_rate: 0.0001, reg_strength: 0.001, accuracy: 0.125\n",
      "Epoch 0, loss: 2.302397\n",
      "Epoch 1, loss: 2.301522\n",
      "Epoch 2, loss: 2.301636\n",
      "Epoch 3, loss: 2.300922\n",
      "Epoch 4, loss: 2.300711\n",
      "Epoch 5, loss: 2.302351\n",
      "Epoch 6, loss: 2.301909\n",
      "Epoch 7, loss: 2.301583\n",
      "Epoch 8, loss: 2.301739\n",
      "Epoch 9, loss: 2.301986\n",
      "learning_rate: 0.0001, reg_strength: 0.0001, accuracy: 0.125\n",
      "Epoch 0, loss: 2.302395\n",
      "Epoch 1, loss: 2.301520\n",
      "Epoch 2, loss: 2.301633\n",
      "Epoch 3, loss: 2.300920\n",
      "Epoch 4, loss: 2.300708\n",
      "Epoch 5, loss: 2.302348\n",
      "Epoch 6, loss: 2.301906\n",
      "Epoch 7, loss: 2.301580\n",
      "Epoch 8, loss: 2.301736\n",
      "Epoch 9, loss: 2.301983\n",
      "learning_rate: 0.0001, reg_strength: 1e-05, accuracy: 0.125\n",
      "Epoch 0, loss: 2.302394\n",
      "Epoch 1, loss: 2.301519\n",
      "Epoch 2, loss: 2.301632\n",
      "Epoch 3, loss: 2.300919\n",
      "Epoch 4, loss: 2.300708\n",
      "Epoch 5, loss: 2.302348\n",
      "Epoch 6, loss: 2.301906\n",
      "Epoch 7, loss: 2.301580\n",
      "Epoch 8, loss: 2.301736\n",
      "Epoch 9, loss: 2.301982\n",
      "learning_rate: 0.0001, reg_strength: 1e-06, accuracy: 0.125\n",
      "Epoch 0, loss: 2.305496\n",
      "Epoch 1, loss: 2.304809\n",
      "Epoch 2, loss: 2.304841\n",
      "Epoch 3, loss: 2.304264\n",
      "Epoch 4, loss: 2.304156\n",
      "Epoch 5, loss: 2.305858\n",
      "Epoch 6, loss: 2.305780\n",
      "Epoch 7, loss: 2.305189\n",
      "Epoch 8, loss: 2.305487\n",
      "Epoch 9, loss: 2.305980\n",
      "learning_rate: 1e-05, reg_strength: 0.1, accuracy: 0.12833333333333333\n",
      "Epoch 0, loss: 2.302740\n",
      "Epoch 1, loss: 2.302052\n",
      "Epoch 2, loss: 2.302085\n",
      "Epoch 3, loss: 2.301508\n",
      "Epoch 4, loss: 2.301400\n",
      "Epoch 5, loss: 2.303103\n",
      "Epoch 6, loss: 2.303025\n",
      "Epoch 7, loss: 2.302434\n",
      "Epoch 8, loss: 2.302733\n",
      "Epoch 9, loss: 2.303226\n",
      "learning_rate: 1e-05, reg_strength: 0.01, accuracy: 0.12833333333333333\n",
      "Epoch 0, loss: 2.302464\n",
      "Epoch 1, loss: 2.301777\n",
      "Epoch 2, loss: 2.301809\n",
      "Epoch 3, loss: 2.301232\n",
      "Epoch 4, loss: 2.301124\n",
      "Epoch 5, loss: 2.302827\n",
      "Epoch 6, loss: 2.302749\n",
      "Epoch 7, loss: 2.302158\n"
     ]
    },
    {
     "name": "stdout",
     "output_type": "stream",
     "text": [
      "Epoch 8, loss: 2.302457\n",
      "Epoch 9, loss: 2.302950\n",
      "learning_rate: 1e-05, reg_strength: 0.001, accuracy: 0.12833333333333333\n",
      "Epoch 0, loss: 2.302436\n",
      "Epoch 1, loss: 2.301749\n",
      "Epoch 2, loss: 2.301782\n",
      "Epoch 3, loss: 2.301205\n",
      "Epoch 4, loss: 2.301097\n",
      "Epoch 5, loss: 2.302800\n",
      "Epoch 6, loss: 2.302722\n",
      "Epoch 7, loss: 2.302130\n",
      "Epoch 8, loss: 2.302430\n",
      "Epoch 9, loss: 2.302923\n",
      "learning_rate: 1e-05, reg_strength: 0.0001, accuracy: 0.12833333333333333\n",
      "Epoch 0, loss: 2.302433\n",
      "Epoch 1, loss: 2.301746\n",
      "Epoch 2, loss: 2.301779\n",
      "Epoch 3, loss: 2.301202\n",
      "Epoch 4, loss: 2.301094\n",
      "Epoch 5, loss: 2.302797\n",
      "Epoch 6, loss: 2.302719\n",
      "Epoch 7, loss: 2.302128\n",
      "Epoch 8, loss: 2.302427\n",
      "Epoch 9, loss: 2.302920\n",
      "learning_rate: 1e-05, reg_strength: 1e-05, accuracy: 0.12833333333333333\n",
      "Epoch 0, loss: 2.302433\n",
      "Epoch 1, loss: 2.301746\n",
      "Epoch 2, loss: 2.301779\n",
      "Epoch 3, loss: 2.301202\n",
      "Epoch 4, loss: 2.301094\n",
      "Epoch 5, loss: 2.302797\n",
      "Epoch 6, loss: 2.302719\n",
      "Epoch 7, loss: 2.302127\n",
      "Epoch 8, loss: 2.302426\n",
      "Epoch 9, loss: 2.302920\n",
      "learning_rate: 1e-05, reg_strength: 1e-06, accuracy: 0.12833333333333333\n",
      "best validation accuracy achieved: 0.230556\n"
     ]
    }
   ],
   "source": [
    "num_epochs = 200\n",
    "batch_size = 300\n",
    "\n",
    "learning_rates = [1e-1, 1e-2, 1e-3, 1e-4, 1e-5]\n",
    "reg_strengths = [1e-1, 1e-2, 1e-3, 1e-4, 1e-5, 1e-6]\n",
    "\n",
    "best_classifier = None\n",
    "best_val_accuracy = None\n",
    "\n",
    "# TODO use validation set to find the best hyperparameters\n",
    "# hint: for best results, you might need to try more values for learning rate and regularization strength \n",
    "# than provided initially\n",
    "\n",
    "accuracy_arr=[]\n",
    "W = []\n",
    "for lr in learning_rates:\n",
    "    for reg in reg_strengths:\n",
    "        _train_X, _train_y, _valid_X, _valid_y = random_split_train_val(train_X, train_y, num_val=int(len(train_y)*0.2))\n",
    "        _classifier = linear_classifer.LinearSoftmaxClassifier()\n",
    "        _classifier.fit(_train_X, _train_y, epochs=10, learning_rate=lr, batch_size=300, reg=reg)\n",
    "        _pred = _classifier.predict(_valid_X)\n",
    "        _accuracy = multiclass_accuracy(_pred, _valid_y)\n",
    "        accuracy_arr.append(_accuracy)\n",
    "        W.append(_classifier.W.copy())\n",
    "        print(f'learning_rate: {lr}, reg_strength: {reg}, accuracy: {_accuracy}')\n",
    "best_val_accuracy = np.max(accuracy_arr)\n",
    "best_classifier = linear_classifer.LinearSoftmaxClassifier()\n",
    "best_classifier.W = W[np.argmax(accuracy_arr)]\n",
    "\n",
    "print('best validation accuracy achieved: %f' % best_val_accuracy)"
   ]
  },
  {
   "cell_type": "code",
   "execution_count": 243,
   "metadata": {},
   "outputs": [
    {
     "name": "stdout",
     "output_type": "stream",
     "text": [
      "Linear softmax classifier test set accuracy: 0.185000\n"
     ]
    }
   ],
   "source": [
    "test_pred = best_classifier.predict(test_X)\n",
    "test_accuracy = multiclass_accuracy(test_pred, test_y)\n",
    "print('Linear softmax classifier test set accuracy: %f' % (test_accuracy, ))"
   ]
  },
  {
   "cell_type": "code",
   "execution_count": null,
   "metadata": {},
   "outputs": [],
   "source": []
  },
  {
   "cell_type": "code",
   "execution_count": null,
   "metadata": {},
   "outputs": [],
   "source": []
  },
  {
   "cell_type": "code",
   "execution_count": 252,
   "metadata": {
    "scrolled": true
   },
   "outputs": [
    {
     "name": "stdout",
     "output_type": "stream",
     "text": [
      "Epoch 0, loss: 2.112486\n",
      "Epoch 1, loss: 2.333982\n",
      "Epoch 2, loss: 2.298239\n",
      "Epoch 3, loss: 2.119095\n",
      "Epoch 4, loss: 2.149087\n",
      "Epoch 5, loss: 1.738738\n",
      "Epoch 6, loss: 2.404680\n",
      "Epoch 7, loss: 2.334960\n",
      "Epoch 8, loss: 2.039745\n",
      "Epoch 9, loss: 1.926907\n",
      "Epoch 10, loss: 2.264684\n",
      "Epoch 11, loss: 2.123330\n",
      "Epoch 12, loss: 1.882693\n",
      "Epoch 13, loss: 2.180324\n",
      "Epoch 14, loss: 2.074371\n",
      "Epoch 15, loss: 2.133689\n",
      "Epoch 16, loss: 1.944173\n",
      "Epoch 17, loss: 1.914930\n",
      "Epoch 18, loss: 2.307814\n",
      "Epoch 19, loss: 2.081438\n",
      "Epoch 20, loss: 2.371758\n",
      "Epoch 21, loss: 1.687491\n",
      "Epoch 22, loss: 1.985527\n",
      "Epoch 23, loss: 1.847810\n",
      "Epoch 24, loss: 2.123652\n",
      "Epoch 25, loss: 2.251763\n",
      "Epoch 26, loss: 2.328864\n",
      "Epoch 27, loss: 2.297312\n",
      "Epoch 28, loss: 2.137561\n",
      "Epoch 29, loss: 2.068182\n",
      "0.2722222222222222\n",
      "Linear softmax classifier test set accuracy: 0.205000\n"
     ]
    },
    {
     "data": {
      "image/png": "[encoded data removed]",
      "text/plain": [
       "<Figure size 432x288 with 1 Axes>"
      ]
     },
     "metadata": {
      "needs_background": "light"
     },
     "output_type": "display_data"
    }
   ],
   "source": [
    "_train_X, _train_y, _valid_X, _valid_y = random_split_train_val(train_X, train_y, num_val=int(len(train_y)*0.2))\n",
    "clf = linear_classifer.LinearSoftmaxClassifier()\n",
    "lh = clf.fit(_train_X, _train_y, epochs=30, learning_rate=1e-2, batch_size=10, reg=1e-6)\n",
    "plt.plot(lh)\n",
    "y_pred = clf.predict(_valid_X)\n",
    "print(multiclass_accuracy(_valid_y, y_pred))\n",
    "\n",
    "test_pred = clf.predict(test_X)\n",
    "test_accuracy = multiclass_accuracy(test_pred, test_y)\n",
    "print('Linear softmax classifier test set accuracy: %f' % (test_accuracy))"
   ]
  },
  {
   "cell_type": "code",
   "execution_count": 256,
   "metadata": {
    "scrolled": true
   },
   "outputs": [
    {
     "name": "stdout",
     "output_type": "stream",
     "text": [
      "Epoch 0, loss: 2.277964\n",
      "Epoch 1, loss: 2.222678\n",
      "Epoch 2, loss: 2.209807\n",
      "Epoch 3, loss: 2.171210\n",
      "Epoch 4, loss: 2.155068\n",
      "Epoch 5, loss: 2.212577\n",
      "Epoch 6, loss: 2.162674\n",
      "Epoch 7, loss: 2.176101\n",
      "Epoch 8, loss: 2.168588\n",
      "Epoch 9, loss: 2.158508\n",
      "Epoch 10, loss: 2.119490\n",
      "Epoch 11, loss: 2.193832\n",
      "Epoch 12, loss: 2.136127\n",
      "Epoch 13, loss: 2.125963\n",
      "Epoch 14, loss: 2.125983\n",
      "Epoch 15, loss: 2.167025\n",
      "Epoch 16, loss: 2.108738\n",
      "Epoch 17, loss: 2.114171\n",
      "Epoch 18, loss: 2.122271\n",
      "Epoch 19, loss: 2.137817\n",
      "Epoch 20, loss: 2.126613\n",
      "Epoch 21, loss: 2.172860\n",
      "Epoch 22, loss: 2.148029\n",
      "Epoch 23, loss: 2.102540\n",
      "Epoch 24, loss: 2.081570\n",
      "Epoch 25, loss: 2.061144\n",
      "Epoch 26, loss: 2.159167\n",
      "Epoch 27, loss: 2.094899\n",
      "Epoch 28, loss: 2.095825\n",
      "Epoch 29, loss: 2.057915\n",
      "Epoch 30, loss: 2.109384\n",
      "Epoch 31, loss: 2.067522\n",
      "Epoch 32, loss: 2.078311\n",
      "Epoch 33, loss: 2.141052\n",
      "Epoch 34, loss: 2.114940\n",
      "Epoch 35, loss: 2.041407\n",
      "Epoch 36, loss: 2.110628\n",
      "Epoch 37, loss: 2.130607\n",
      "Epoch 38, loss: 2.104057\n",
      "Epoch 39, loss: 1.999212\n",
      "Epoch 40, loss: 2.114009\n",
      "Epoch 41, loss: 2.086926\n",
      "Epoch 42, loss: 2.119199\n",
      "Epoch 43, loss: 2.062693\n",
      "Epoch 44, loss: 2.124342\n",
      "Epoch 45, loss: 2.045576\n",
      "Epoch 46, loss: 2.063464\n",
      "Epoch 47, loss: 2.128363\n",
      "Epoch 48, loss: 2.032237\n",
      "Epoch 49, loss: 2.094098\n",
      "Epoch 50, loss: 2.074718\n",
      "Epoch 51, loss: 2.018018\n",
      "Epoch 52, loss: 2.088341\n",
      "Epoch 53, loss: 2.043141\n",
      "Epoch 54, loss: 2.065811\n",
      "Epoch 55, loss: 2.058890\n",
      "Epoch 56, loss: 2.014249\n",
      "Epoch 57, loss: 2.077951\n",
      "Epoch 58, loss: 2.055125\n",
      "Epoch 59, loss: 2.024146\n",
      "Epoch 60, loss: 2.028783\n",
      "Epoch 61, loss: 2.100488\n",
      "Epoch 62, loss: 2.157004\n",
      "Epoch 63, loss: 2.019385\n",
      "Epoch 64, loss: 1.955830\n",
      "Epoch 65, loss: 2.114020\n",
      "Epoch 66, loss: 2.103773\n",
      "Epoch 67, loss: 2.035238\n",
      "Epoch 68, loss: 2.073529\n",
      "Epoch 69, loss: 2.108045\n",
      "Epoch 70, loss: 2.034960\n",
      "Epoch 71, loss: 2.066153\n",
      "Epoch 72, loss: 2.043476\n",
      "Epoch 73, loss: 1.948384\n",
      "Epoch 74, loss: 2.109906\n",
      "Epoch 75, loss: 2.082982\n",
      "Epoch 76, loss: 2.072119\n",
      "Epoch 77, loss: 2.088647\n",
      "Epoch 78, loss: 2.064127\n",
      "Epoch 79, loss: 2.036199\n",
      "Epoch 80, loss: 2.029813\n",
      "Epoch 81, loss: 2.055340\n",
      "Epoch 82, loss: 1.993462\n",
      "Epoch 83, loss: 2.092182\n",
      "Epoch 84, loss: 2.046261\n",
      "Epoch 85, loss: 2.047988\n",
      "Epoch 86, loss: 2.115761\n",
      "Epoch 87, loss: 2.016066\n",
      "Epoch 88, loss: 2.073055\n",
      "Epoch 89, loss: 2.052728\n",
      "Epoch 90, loss: 2.014597\n",
      "Epoch 91, loss: 2.067736\n",
      "Epoch 92, loss: 2.067784\n",
      "Epoch 93, loss: 2.081441\n",
      "Epoch 94, loss: 2.093695\n",
      "Epoch 95, loss: 2.061062\n",
      "Epoch 96, loss: 2.086787\n",
      "Epoch 97, loss: 2.057982\n",
      "Epoch 98, loss: 2.086182\n",
      "Epoch 99, loss: 2.042016\n",
      "0.26611111111111113\n",
      "Linear softmax classifier test set accuracy: 0.210000\n"
     ]
    },
    {
     "data": {
      "image/png": "[encoded data removed]",
      "text/plain": [
       "<Figure size 432x288 with 1 Axes>"
      ]
     },
     "metadata": {
      "needs_background": "light"
     },
     "output_type": "display_data"
    }
   ],
   "source": [
    "_train_X, _train_y, _valid_X, _valid_y = random_split_train_val(train_X, train_y, num_val=int(len(train_y)*0.2))\n",
    "clf = linear_classifer.LinearSoftmaxClassifier()\n",
    "lh = clf.fit(_train_X, _train_y, epochs=100, learning_rate=1e-1, batch_size=300, reg=1e-4)\n",
    "plt.plot(lh)\n",
    "y_pred = clf.predict(_valid_X)\n",
    "print(multiclass_accuracy(_valid_y, y_pred))\n",
    "\n",
    "test_pred = clf.predict(test_X)\n",
    "test_accuracy = multiclass_accuracy(test_pred, test_y)\n",
    "print('Linear softmax classifier test set accuracy: %f' % (test_accuracy))"
   ]
  },
  {
   "cell_type": "code",
   "execution_count": null,
   "metadata": {},
   "outputs": [],
   "source": []
  },
  {
   "cell_type": "code",
   "execution_count": null,
   "metadata": {},
   "outputs": [],
   "source": []
  },
  {
   "cell_type": "code",
   "execution_count": null,
   "metadata": {},
   "outputs": [],
   "source": []
  },
  {
   "cell_type": "code",
   "execution_count": null,
   "metadata": {},
   "outputs": [],
   "source": []
  }
 ],
 "metadata": {
  "kernelspec": {
   "display_name": "Python 3",
   "language": "python",
   "name": "python3"
  },
  "language_info": {
   "codemirror_mode": {
    "name": "ipython",
    "version": 3
   },
   "file_extension": ".py",
   "mimetype": "text/x-python",
   "name": "python",
   "nbconvert_exporter": "python",
   "pygments_lexer": "ipython3",
   "version": "3.7.3"
  }
 },
 "nbformat": 4,
 "nbformat_minor": 2
}
