{
 "cells": [
  {
   "cell_type": "code",
   "execution_count": 1,
   "metadata": {},
   "outputs": [],
   "source": [
    "import numpy as np\n",
    "import matplotlib.pyplot as plt\n",
    "\n",
    "%matplotlib inline\n",
    "\n",
    "%load_ext autoreload\n",
    "%autoreload 2"
   ]
  },
  {
   "cell_type": "code",
   "execution_count": 2,
   "metadata": {},
   "outputs": [],
   "source": [
    "from dataset import load_svhn, random_split_train_val\n",
    "from gradient_check import check_layer_gradient, check_layer_param_gradient, check_model_gradient\n",
    "from layers import FullyConnectedLayer, ReLULayer, ConvolutionalLayer, MaxPoolingLayer, Flattener\n",
    "from model import ConvNet\n",
    "from trainer import Trainer, Dataset\n",
    "from optim import SGD, MomentumSGD\n",
    "from metrics import multiclass_accuracy"
   ]
  },
  {
   "cell_type": "code",
   "execution_count": 3,
   "metadata": {},
   "outputs": [],
   "source": [
    "def prepare_for_neural_network(train_X, test_X):    \n",
    "    train_X = train_X.astype(np.float) / 255.0\n",
    "    test_X = test_X.astype(np.float) / 255.0\n",
    "    \n",
    "    # Subtract mean\n",
    "    mean_image = np.mean(train_X, axis = 0)\n",
    "    train_X -= mean_image\n",
    "    test_X -= mean_image\n",
    "    \n",
    "    return train_X, test_X\n",
    "    \n",
    "train_X, train_y, test_X, test_y = load_svhn(\"../data\", max_train=10000, max_test=1000)    \n",
    "train_X, test_X = prepare_for_neural_network(train_X, test_X)\n",
    "# Split train into train and val\n",
    "train_X, train_y, val_X, val_y = random_split_train_val(train_X, train_y, num_val = 1000)"
   ]
  },
  {
   "cell_type": "code",
   "execution_count": 678,
   "metadata": {
    "scrolled": false
   },
   "outputs": [
    {
     "name": "stdout",
     "output_type": "stream",
     "text": [
      "Shape of X: (2, 2, 2, 1)\n",
      "Shape of W (2, 2, 1, 1)\n",
      "Shape of X: (2, 2, 2, 2)\n"
     ]
    }
   ],
   "source": [
    "# TODO: Implement ConvolutionaLayer that supports only 1 output and input channel\n",
    "\n",
    "# Note: now you're working with images, so X is 4-dimensional tensor of\n",
    "# (batch_size, height, width, channels)\n",
    "\n",
    "X = np.array([\n",
    "              [\n",
    "               [[1.0], [2.0]],\n",
    "               [[0.0], [-1.0]]\n",
    "              ]\n",
    "              ,\n",
    "              [\n",
    "               [[0.0], [1.0]],\n",
    "               [[-2.0], [-1.0]]\n",
    "              ]\n",
    "             ])\n",
    "\n",
    "# Batch of 2 images of dimensions 2x2 with a single channel\n",
    "print(\"Shape of X:\",X.shape)\n",
    "\n",
    "layer = ConvolutionalLayer(in_channels=1, out_channels=1, filter_size=2, padding=0)\n",
    "print(\"Shape of W\", layer.W.value.shape)\n",
    "layer.W.value = np.zeros_like(layer.W.value)\n",
    "layer.W.value[0, 0, 0, 0] = 1.0\n",
    "layer.B.value = np.ones_like(layer.B.value)\n",
    "result = layer.forward(X)\n",
    "\n",
    "assert result.shape == (2, 1, 1, 1)\n",
    "assert np.all(result == X[:, :1, :1, :1] +1), \"result: %s, X: %s\" % (result, X[:, :1, :1, :1])\n",
    "\n",
    "\n",
    "# Now let's implement multiple output channels\n",
    "layer = ConvolutionalLayer(in_channels=1, out_channels=2, filter_size=2, padding=0)\n",
    "result = layer.forward(X)\n",
    "assert result.shape == (2, 1, 1, 2)\n",
    "\n",
    "\n",
    "# And now multple input channels!\n",
    "X = np.array([\n",
    "              [\n",
    "               [[1.0, 0.0], [2.0, 1.0]],\n",
    "               [[0.0, -1.0], [-1.0, -2.0]]\n",
    "              ]\n",
    "              ,\n",
    "              [\n",
    "               [[0.0, 1.0], [1.0, -1.0]],\n",
    "               [[-2.0, 2.0], [-1.0, 0.0]]\n",
    "              ]\n",
    "             ])\n",
    "\n",
    "print(\"Shape of X:\", X.shape)\n",
    "layer = ConvolutionalLayer(in_channels=2, out_channels=2, filter_size=2, padding=0)\n",
    "result = layer.forward(X)\n",
    "assert result.shape == (2, 1, 1, 2)"
   ]
  },
  {
   "cell_type": "code",
   "execution_count": 679,
   "metadata": {},
   "outputs": [
    {
     "name": "stdout",
     "output_type": "stream",
     "text": [
      "Gradient check passed!\n",
      "Gradient check passed!\n",
      "Gradient check passed!\n"
     ]
    }
   ],
   "source": [
    "# # First test - check the shape is right\n",
    "# layer = ConvolutionalLayer(in_channels=2, out_channels=2, filter_size=2, padding=0)\n",
    "# result = layer.forward(X)\n",
    "# d_input = layer.backward(np.ones_like(result))\n",
    "# assert d_input.shape == X.shape\n",
    "\n",
    "# Actually test the backward pass\n",
    "# As usual, you'll need to copy gradient check code from the previous assignment\n",
    "layer = ConvolutionalLayer(in_channels=2, out_channels=2, filter_size=2, padding=0)\n",
    "assert check_layer_gradient(layer, X)\n",
    "\n",
    "layer = ConvolutionalLayer(in_channels=2, out_channels=2, filter_size=2, padding=0)\n",
    "assert check_layer_param_gradient(layer, X, 'W')\n",
    "layer = ConvolutionalLayer(in_channels=2, out_channels=2, filter_size=2, padding=0)\n",
    "assert check_layer_param_gradient(layer, X, 'B')"
   ]
  },
  {
   "cell_type": "code",
   "execution_count": 680,
   "metadata": {},
   "outputs": [
    {
     "name": "stdout",
     "output_type": "stream",
     "text": [
      "Gradient check passed!\n"
     ]
    }
   ],
   "source": [
    "layer = ConvolutionalLayer(in_channels=2, out_channels=2, filter_size=3, padding=1)\n",
    "result = layer.forward(X)\n",
    "# Note this kind of layer produces the same dimensions as input\n",
    "assert result.shape == X.shape,\"Result shape: %s - Expected shape %s\" % (result.shape, X.shape)\n",
    "d_input = layer.backward(np.ones_like(result))\n",
    "#print(d_input.shape)\n",
    "#print(X.shape)\n",
    "assert d_input.shape == X.shape\n",
    "layer = ConvolutionalLayer(in_channels=2, out_channels=2, filter_size=3, padding=1)\n",
    "assert check_layer_gradient(layer, X)"
   ]
  },
  {
   "cell_type": "code",
   "execution_count": 684,
   "metadata": {},
   "outputs": [
    {
     "name": "stdout",
     "output_type": "stream",
     "text": [
      "Gradient check passed!\n"
     ]
    }
   ],
   "source": [
    "pool = MaxPoolingLayer(2, 2)\n",
    "result = pool.forward(X)\n",
    "assert result.shape == (2, 1, 1, 2)\n",
    "\n",
    "assert check_layer_gradient(pool, X)"
   ]
  },
  {
   "cell_type": "code",
   "execution_count": 685,
   "metadata": {},
   "outputs": [
    {
     "name": "stdout",
     "output_type": "stream",
     "text": [
      "Gradient check passed!\n"
     ]
    }
   ],
   "source": [
    "flattener = Flattener()\n",
    "result = flattener.forward(X)\n",
    "assert result.shape == (2,8)\n",
    "\n",
    "assert check_layer_gradient(flattener, X)"
   ]
  },
  {
   "cell_type": "code",
   "execution_count": 693,
   "metadata": {},
   "outputs": [
    {
     "name": "stdout",
     "output_type": "stream",
     "text": [
      "Checking gradient for 0_W\n",
      "Gradient check passed!\n",
      "Checking gradient for 0_B\n",
      "Gradient check passed!\n",
      "Checking gradient for 3_W\n",
      "Gradient check passed!\n",
      "Checking gradient for 3_B\n",
      "Gradient check passed!\n",
      "Checking gradient for 7_W\n",
      "Gradient check passed!\n",
      "Checking gradient for 7_B\n",
      "Gradient check passed!\n"
     ]
    },
    {
     "data": {
      "text/plain": [
       "True"
      ]
     },
     "execution_count": 693,
     "metadata": {},
     "output_type": "execute_result"
    }
   ],
   "source": [
    "# TODO: In model.py, implement missed functions function for ConvNet model\n",
    "\n",
    "# No need to use L2 regularization\n",
    "model = ConvNet(input_shape=(32,32,3), n_output_classes=10, conv1_channels=2, conv2_channels=2)\n",
    "loss = model.compute_loss_and_gradients(train_X[:2], train_y[:2])\n",
    "\n",
    "# TODO Now implement backward pass and aggregate all of the params\n",
    "check_model_gradient(model, train_X[:2], train_y[:2])"
   ]
  },
  {
   "cell_type": "code",
   "execution_count": 765,
   "metadata": {},
   "outputs": [
    {
     "name": "stdout",
     "output_type": "stream",
     "text": [
      "Epoch 0, Loss: 2.302186, Train accuracy: 0.187500, val accuracy: 0.062500\n",
      "Epoch 1, Loss: 2.302128, Train accuracy: 0.187500, val accuracy: 0.062500\n",
      "Epoch 2, Loss: 2.302070, Train accuracy: 0.187500, val accuracy: 0.062500\n",
      "Epoch 3, Loss: 2.302012, Train accuracy: 0.187500, val accuracy: 0.062500\n",
      "Epoch 4, Loss: 2.301954, Train accuracy: 0.187500, val accuracy: 0.062500\n",
      "Epoch 5, Loss: 2.301897, Train accuracy: 0.187500, val accuracy: 0.062500\n",
      "Epoch 6, Loss: 2.301839, Train accuracy: 0.187500, val accuracy: 0.062500\n",
      "Epoch 7, Loss: 2.301781, Train accuracy: 0.187500, val accuracy: 0.062500\n",
      "Epoch 8, Loss: 2.301723, Train accuracy: 0.187500, val accuracy: 0.062500\n",
      "Epoch 9, Loss: 2.301665, Train accuracy: 0.187500, val accuracy: 0.062500\n",
      "Epoch 10, Loss: 2.301607, Train accuracy: 0.187500, val accuracy: 0.062500\n",
      "Epoch 11, Loss: 2.301549, Train accuracy: 0.187500, val accuracy: 0.062500\n",
      "Epoch 12, Loss: 2.301491, Train accuracy: 0.187500, val accuracy: 0.062500\n",
      "Epoch 13, Loss: 2.301434, Train accuracy: 0.187500, val accuracy: 0.062500\n",
      "Epoch 14, Loss: 2.301376, Train accuracy: 0.187500, val accuracy: 0.062500\n",
      "Epoch 15, Loss: 2.301318, Train accuracy: 0.187500, val accuracy: 0.062500\n",
      "Epoch 16, Loss: 2.301260, Train accuracy: 0.187500, val accuracy: 0.062500\n",
      "Epoch 17, Loss: 2.301202, Train accuracy: 0.187500, val accuracy: 0.062500\n",
      "Epoch 18, Loss: 2.301145, Train accuracy: 0.250000, val accuracy: 0.187500\n",
      "Epoch 19, Loss: 2.301087, Train accuracy: 0.250000, val accuracy: 0.187500\n"
     ]
    }
   ],
   "source": [
    "model = ConvNet(input_shape=(32,32,3), n_output_classes=10, conv1_channels=2, conv2_channels=2)\n",
    "dataset = Dataset(train_X[:16], train_y[:16], val_X[:16], val_y[:16])\n",
    "trainer = Trainer(model, dataset, SGD(), batch_size=16, learning_rate=1e-4)\n",
    "\n",
    "loss_history, train_history, val_history = trainer.fit()"
   ]
  },
  {
   "cell_type": "code",
   "execution_count": 766,
   "metadata": {},
   "outputs": [
    {
     "data": {
      "text/plain": [
       "[<matplotlib.lines.Line2D at 0x1ea85cbab70>]"
      ]
     },
     "execution_count": 766,
     "metadata": {},
     "output_type": "execute_result"
    },
    {
     "data": {
      "image/png": "[encoded data removed]",
      "text/plain": [
       "<Figure size 432x288 with 1 Axes>"
      ]
     },
     "metadata": {
      "needs_background": "light"
     },
     "output_type": "display_data"
    }
   ],
   "source": [
    "plt.plot(train_history)\n",
    "plt.plot(val_history)"
   ]
  },
  {
   "cell_type": "code",
   "execution_count": 870,
   "metadata": {},
   "outputs": [
    {
     "name": "stdout",
     "output_type": "stream",
     "text": [
      "Epoch 0, Loss: 95.301511, Train accuracy: 0.093750, val accuracy: 0.070312\n",
      "Epoch 1, Loss: 34.962548, Train accuracy: 0.117188, val accuracy: 0.148438\n",
      "Epoch 2, Loss: 36.109892, Train accuracy: 0.265625, val accuracy: 0.195312\n",
      "Epoch 3, Loss: 6.442807, Train accuracy: 0.273438, val accuracy: 0.203125\n",
      "Epoch 4, Loss: 5.712744, Train accuracy: 0.281250, val accuracy: 0.117188\n",
      "Epoch 5, Loss: 3.551810, Train accuracy: 0.343750, val accuracy: 0.171875\n",
      "Epoch 6, Loss: 4.250929, Train accuracy: 0.445312, val accuracy: 0.109375\n",
      "Epoch 7, Loss: 2.175061, Train accuracy: 0.492188, val accuracy: 0.140625\n",
      "Epoch 8, Loss: 1.059867, Train accuracy: 0.617188, val accuracy: 0.101562\n",
      "Epoch 9, Loss: 1.459723, Train accuracy: 0.671875, val accuracy: 0.125000\n",
      "Epoch 10, Loss: 1.238465, Train accuracy: 0.750000, val accuracy: 0.117188\n",
      "Epoch 11, Loss: 0.559460, Train accuracy: 0.765625, val accuracy: 0.125000\n",
      "Epoch 12, Loss: 0.817769, Train accuracy: 0.781250, val accuracy: 0.101562\n",
      "Epoch 13, Loss: 0.986250, Train accuracy: 0.828125, val accuracy: 0.101562\n",
      "Epoch 14, Loss: 0.611088, Train accuracy: 0.835938, val accuracy: 0.085938\n",
      "Epoch 15, Loss: 0.569285, Train accuracy: 0.835938, val accuracy: 0.117188\n",
      "Epoch 16, Loss: 0.700888, Train accuracy: 0.875000, val accuracy: 0.093750\n",
      "Epoch 17, Loss: 0.325818, Train accuracy: 0.882812, val accuracy: 0.109375\n",
      "Epoch 18, Loss: 0.324281, Train accuracy: 0.890625, val accuracy: 0.109375\n",
      "Epoch 19, Loss: 0.635001, Train accuracy: 0.890625, val accuracy: 0.093750\n",
      "Epoch 20, Loss: 0.803121, Train accuracy: 0.882812, val accuracy: 0.125000\n",
      "Epoch 21, Loss: 0.585716, Train accuracy: 0.898438, val accuracy: 0.085938\n",
      "Epoch 22, Loss: 0.326842, Train accuracy: 0.921875, val accuracy: 0.117188\n",
      "Epoch 23, Loss: 0.205188, Train accuracy: 0.914062, val accuracy: 0.117188\n",
      "Epoch 24, Loss: 0.409974, Train accuracy: 0.945312, val accuracy: 0.109375\n",
      "Epoch 25, Loss: 0.627912, Train accuracy: 0.953125, val accuracy: 0.109375\n",
      "Epoch 26, Loss: 0.337891, Train accuracy: 0.945312, val accuracy: 0.117188\n",
      "Epoch 27, Loss: 0.199815, Train accuracy: 0.953125, val accuracy: 0.109375\n",
      "Epoch 28, Loss: 0.406047, Train accuracy: 0.960938, val accuracy: 0.125000\n",
      "Epoch 29, Loss: 0.150911, Train accuracy: 0.984375, val accuracy: 0.117188\n",
      "Epoch 30, Loss: 0.279182, Train accuracy: 0.992188, val accuracy: 0.117188\n",
      "Epoch 31, Loss: 0.295040, Train accuracy: 0.992188, val accuracy: 0.109375\n",
      "Epoch 32, Loss: 0.444045, Train accuracy: 0.992188, val accuracy: 0.125000\n",
      "Epoch 33, Loss: 0.192439, Train accuracy: 0.992188, val accuracy: 0.109375\n",
      "Epoch 34, Loss: 0.310594, Train accuracy: 0.992188, val accuracy: 0.125000\n",
      "Epoch 35, Loss: 0.272988, Train accuracy: 0.976562, val accuracy: 0.117188\n",
      "Epoch 36, Loss: 0.294734, Train accuracy: 0.984375, val accuracy: 0.125000\n",
      "Epoch 37, Loss: 0.148137, Train accuracy: 0.984375, val accuracy: 0.132812\n",
      "Epoch 38, Loss: 0.120533, Train accuracy: 1.000000, val accuracy: 0.125000\n",
      "Epoch 39, Loss: 0.173536, Train accuracy: 0.984375, val accuracy: 0.132812\n",
      "Epoch 40, Loss: 0.119633, Train accuracy: 0.992188, val accuracy: 0.132812\n",
      "Epoch 41, Loss: 0.101821, Train accuracy: 0.992188, val accuracy: 0.132812\n",
      "Epoch 42, Loss: 0.210147, Train accuracy: 1.000000, val accuracy: 0.132812\n",
      "Epoch 43, Loss: 0.280212, Train accuracy: 1.000000, val accuracy: 0.125000\n",
      "Epoch 44, Loss: 0.167002, Train accuracy: 0.984375, val accuracy: 0.132812\n",
      "Epoch 45, Loss: 0.208269, Train accuracy: 1.000000, val accuracy: 0.132812\n",
      "Epoch 46, Loss: 0.100211, Train accuracy: 1.000000, val accuracy: 0.132812\n",
      "Epoch 47, Loss: 0.148408, Train accuracy: 1.000000, val accuracy: 0.132812\n",
      "Epoch 48, Loss: 0.178082, Train accuracy: 0.992188, val accuracy: 0.132812\n",
      "Epoch 49, Loss: 0.127910, Train accuracy: 1.000000, val accuracy: 0.132812\n"
     ]
    }
   ],
   "source": [
    "data_size = 128\n",
    "model = ConvNet(input_shape=(32,32,3), n_output_classes=10, conv1_channels=30, conv2_channels=30)\n",
    "dataset = Dataset(train_X[:data_size], train_y[:data_size], val_X[:data_size], val_y[:data_size])\n",
    "# TODO: Change any hyperparamers or optimizators to reach 1.0 training accuracy in 50 epochs or less\n",
    "# Hint: If you have hard time finding the right parameters manually, try grid search or random search!\n",
    "trainer = Trainer(model, dataset, MomentumSGD(), learning_rate=1e-3, num_epochs=50, batch_size=16)\n",
    "\n",
    "loss_history, train_history, val_history = trainer.fit()"
   ]
  },
  {
   "cell_type": "code",
   "execution_count": 871,
   "metadata": {},
   "outputs": [
    {
     "data": {
      "text/plain": [
       "[<matplotlib.lines.Line2D at 0x1ea874a6898>]"
      ]
     },
     "execution_count": 871,
     "metadata": {},
     "output_type": "execute_result"
    },
    {
     "data": {
      "image/png": "[encoded data removed]",
      "text/plain": [
       "<Figure size 432x288 with 1 Axes>"
      ]
     },
     "metadata": {
      "needs_background": "light"
     },
     "output_type": "display_data"
    }
   ],
   "source": [
    "plt.plot(train_history)\n",
    "plt.plot(val_history)"
   ]
  },
  {
   "cell_type": "code",
   "execution_count": null,
   "metadata": {},
   "outputs": [],
   "source": []
  }
 ],
 "metadata": {
  "kernelspec": {
   "display_name": "Python 3",
   "language": "python",
   "name": "python3"
  },
  "language_info": {
   "codemirror_mode": {
    "name": "ipython",
    "version": 3
   },
   "file_extension": ".py",
   "mimetype": "text/x-python",
   "name": "python",
   "nbconvert_exporter": "python",
   "pygments_lexer": "ipython3",
   "version": "3.7.3"
  }
 },
 "nbformat": 4,
 "nbformat_minor": 2
}
