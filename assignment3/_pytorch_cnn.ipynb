{
  "nbformat": 4,
  "nbformat_minor": 0,
  "metadata": {
    "colab": {
      "name": "cnn_pytorch.ipynb",
      "provenance": [],
      "collapsed_sections": []
    },
    "kernelspec": {
      "name": "python3",
      "display_name": "Python 3"
    },
    "accelerator": "GPU"
  },
  "cells": [
    {
      "cell_type": "code",
      "metadata": {
        "id": "g3a4kk8I1AD8",
        "colab_type": "code",
        "colab": {
          "base_uri": "https://localhost:8080/",
          "height": 527
        },
        "outputId": "d5e12cd5-9bb3-49e5-8e74-5017f4b5a481"
      },
      "source": [
        "# Intstall PyTorch and download data\n",
        "!pip3 install torch torchvision\n",
        "\n",
        "!wget -c http://ufldl.stanford.edu/housenumbers/train_32x32.mat http://ufldl.stanford.edu/housenumbers/test_32x32.mat"
      ],
      "execution_count": 3,
      "outputs": [
        {
          "output_type": "stream",
          "text": [
            "Requirement already satisfied: torch in /usr/local/lib/python3.6/dist-packages (1.3.1)\n",
            "Requirement already satisfied: torchvision in /usr/local/lib/python3.6/dist-packages (0.4.2)\n",
            "Requirement already satisfied: numpy in /usr/local/lib/python3.6/dist-packages (from torch) (1.17.4)\n",
            "Requirement already satisfied: six in /usr/local/lib/python3.6/dist-packages (from torchvision) (1.12.0)\n",
            "Requirement already satisfied: pillow>=4.1.1 in /usr/local/lib/python3.6/dist-packages (from torchvision) (4.3.0)\n",
            "Requirement already satisfied: olefile in /usr/local/lib/python3.6/dist-packages (from pillow>=4.1.1->torchvision) (0.46)\n",
            "--2019-12-22 14:11:19--  http://ufldl.stanford.edu/housenumbers/train_32x32.mat\n",
            "Resolving ufldl.stanford.edu (ufldl.stanford.edu)... 171.64.68.10\n",
            "Connecting to ufldl.stanford.edu (ufldl.stanford.edu)|171.64.68.10|:80... connected.\n",
            "HTTP request sent, awaiting response... 200 OK\n",
            "Length: 182040794 (174M) [text/plain]\n",
            "Saving to: ‘train_32x32.mat’\n",
            "\n",
            "train_32x32.mat     100%[===================>] 173.61M  94.3MB/s    in 1.8s    \n",
            "\n",
            "2019-12-22 14:11:21 (94.3 MB/s) - ‘train_32x32.mat’ saved [182040794/182040794]\n",
            "\n",
            "--2019-12-22 14:11:21--  http://ufldl.stanford.edu/housenumbers/test_32x32.mat\n",
            "Reusing existing connection to ufldl.stanford.edu:80.\n",
            "HTTP request sent, awaiting response... 200 OK\n",
            "Length: 64275384 (61M) [text/plain]\n",
            "Saving to: ‘test_32x32.mat’\n",
            "\n",
            "test_32x32.mat      100%[===================>]  61.30M   108MB/s    in 0.6s    \n",
            "\n",
            "2019-12-22 14:11:22 (108 MB/s) - ‘test_32x32.mat’ saved [64275384/64275384]\n",
            "\n",
            "FINISHED --2019-12-22 14:11:22--\n",
            "Total wall clock time: 2.5s\n",
            "Downloaded: 2 files, 235M in 2.4s (97.6 MB/s)\n"
          ],
          "name": "stdout"
        }
      ]
    },
    {
      "cell_type": "code",
      "metadata": {
        "id": "TO3SZqmr1iK_",
        "colab_type": "code",
        "colab": {
          "base_uri": "https://localhost:8080/",
          "height": 34
        },
        "outputId": "7f3cddb3-6ad8-4888-9ca8-ec32a9b0cf00"
      },
      "source": [
        "!ls"
      ],
      "execution_count": 4,
      "outputs": [
        {
          "output_type": "stream",
          "text": [
            "sample_data  test_32x32.mat  train_32x32.mat\n"
          ],
          "name": "stdout"
        }
      ]
    },
    {
      "cell_type": "code",
      "metadata": {
        "id": "MA5XR7rC90mf",
        "colab_type": "code",
        "colab": {
          "base_uri": "https://localhost:8080/",
          "height": 306
        },
        "outputId": "5eb988df-6922-4873-e8ae-85233fd04a79"
      },
      "source": [
        "!nvidia-smi"
      ],
      "execution_count": 5,
      "outputs": [
        {
          "output_type": "stream",
          "text": [
            "Sun Dec 22 14:11:55 2019       \n",
            "+-----------------------------------------------------------------------------+\n",
            "| NVIDIA-SMI 440.44       Driver Version: 418.67       CUDA Version: 10.1     |\n",
            "|-------------------------------+----------------------+----------------------+\n",
            "| GPU  Name        Persistence-M| Bus-Id        Disp.A | Volatile Uncorr. ECC |\n",
            "| Fan  Temp  Perf  Pwr:Usage/Cap|         Memory-Usage | GPU-Util  Compute M. |\n",
            "|===============================+======================+======================|\n",
            "|   0  Tesla P4            Off  | 00000000:00:04.0 Off |                    0 |\n",
            "| N/A   34C    P8     7W /  75W |      0MiB /  7611MiB |      0%      Default |\n",
            "+-------------------------------+----------------------+----------------------+\n",
            "                                                                               \n",
            "+-----------------------------------------------------------------------------+\n",
            "| Processes:                                                       GPU Memory |\n",
            "|  GPU       PID   Type   Process name                             Usage      |\n",
            "|=============================================================================|\n",
            "|  No running processes found                                                 |\n",
            "+-----------------------------------------------------------------------------+\n"
          ],
          "name": "stdout"
        }
      ]
    },
    {
      "cell_type": "code",
      "metadata": {
        "id": "5mDBY4lr1r2O",
        "colab_type": "code",
        "colab": {}
      },
      "source": [
        "from collections import namedtuple\n",
        "\n",
        "import matplotlib.pyplot as plt\n",
        "import numpy as np\n",
        "import PIL\n",
        "import torch\n",
        "import torch.nn as nn\n",
        "import torch.optim as optim\n",
        "import torchvision.datasets as dset\n",
        "from torch.utils.data.sampler import SubsetRandomSampler\n",
        "\n",
        "from torchvision import transforms"
      ],
      "execution_count": 0,
      "outputs": []
    },
    {
      "cell_type": "code",
      "metadata": {
        "id": "taeQWMK51v_9",
        "colab_type": "code",
        "colab": {}
      },
      "source": [
        "device = torch.device(\"cuda:0\") # Let's make sure GPU is available!"
      ],
      "execution_count": 0,
      "outputs": []
    },
    {
      "cell_type": "code",
      "metadata": {
        "id": "-3t3VJBD1zOF",
        "colab_type": "code",
        "colab": {}
      },
      "source": [
        "# First, lets load the dataset\n",
        "data_train = dset.SVHN('./', \n",
        "                       transform=transforms.Compose([\n",
        "                           transforms.ToTensor(),\n",
        "                           transforms.Normalize(mean=[0.43,0.44,0.47],\n",
        "                                               std=[0.20,0.20,0.20])                           \n",
        "                       ])\n",
        "                      )\n",
        "data_test = dset.SVHN('./', split='test', transform=transforms.Compose([\n",
        "                           transforms.ToTensor(),\n",
        "                           transforms.Normalize(mean=[0.43,0.44,0.47],\n",
        "                                               std=[0.20,0.20,0.20])                           \n",
        "                       ]))"
      ],
      "execution_count": 0,
      "outputs": []
    },
    {
      "cell_type": "code",
      "metadata": {
        "id": "4oFTY0g_11Ll",
        "colab_type": "code",
        "colab": {}
      },
      "source": [
        "batch_size = 64\n",
        "\n",
        "data_size = data_train.data.shape[0]\n",
        "validation_split = .2\n",
        "split = int(np.floor(validation_split * data_size))\n",
        "indices = list(range(data_size))\n",
        "np.random.shuffle(indices)\n",
        "\n",
        "train_indices, val_indices = indices[split:], indices[:split]\n",
        "\n",
        "train_sampler = SubsetRandomSampler(train_indices)\n",
        "val_sampler = SubsetRandomSampler(val_indices)\n",
        "\n",
        "train_loader = torch.utils.data.DataLoader(data_train, batch_size=batch_size, \n",
        "                                           sampler=train_sampler)\n",
        "val_loader = torch.utils.data.DataLoader(data_train, batch_size=batch_size,\n",
        "                                         sampler=val_sampler)"
      ],
      "execution_count": 0,
      "outputs": []
    },
    {
      "cell_type": "code",
      "metadata": {
        "id": "p64EmYXk19C9",
        "colab_type": "code",
        "colab": {}
      },
      "source": [
        "# We'll use a special helper module to shape it into a flat tensor\n",
        "class Flattener(nn.Module):\n",
        "    def forward(self, x):\n",
        "        batch_size, *_ = x.shape\n",
        "        return x.view(batch_size, -1)"
      ],
      "execution_count": 0,
      "outputs": []
    },
    {
      "cell_type": "code",
      "metadata": {
        "id": "vLq3c-FW2BF-",
        "colab_type": "code",
        "colab": {}
      },
      "source": [
        "nn_model = nn.Sequential(\n",
        "            nn.Conv2d(3, 64, 3, padding=1),\n",
        "            nn.ReLU(inplace=True),\n",
        "            nn.MaxPool2d(4),\n",
        "            nn.Conv2d(64, 64, 3, padding=1),\n",
        "            nn.ReLU(inplace=True),\n",
        "            nn.MaxPool2d(4),    \n",
        "            Flattener(),\n",
        "            nn.Linear(64*2*2, 10),\n",
        "          )\n",
        "\n",
        "nn_model.type(torch.cuda.FloatTensor)\n",
        "nn_model.to(device)\n",
        "\n",
        "loss = nn.CrossEntropyLoss().type(torch.cuda.FloatTensor)\n",
        "optimizer = optim.SGD(nn_model.parameters(), lr=1e-1, weight_decay=1e-4)"
      ],
      "execution_count": 0,
      "outputs": []
    },
    {
      "cell_type": "code",
      "metadata": {
        "id": "WAfKkCpO2HI-",
        "colab_type": "code",
        "colab": {}
      },
      "source": [
        "def train_model(model, train_loader, val_loader, loss, optimizer, num_epochs, scheduler=None):    \n",
        "    loss_history = []\n",
        "    train_history = []\n",
        "    val_history = []\n",
        "    for epoch in range(num_epochs):\n",
        "        model.train() # Enter train mode\n",
        "        \n",
        "        loss_accum = 0\n",
        "        correct_samples = 0\n",
        "        total_samples = 0\n",
        "        for i_step, (x, y) in enumerate(train_loader):\n",
        "          \n",
        "            x_gpu = x.to(device)\n",
        "            y_gpu = y.to(device)\n",
        "            prediction = model(x_gpu)    \n",
        "            loss_value = loss(prediction, y_gpu)\n",
        "            optimizer.zero_grad()\n",
        "            loss_value.backward()\n",
        "            optimizer.step()\n",
        "            \n",
        "            _, indices = torch.max(prediction, 1)\n",
        "            correct_samples += torch.sum(indices == y_gpu)\n",
        "            total_samples += y.shape[0]\n",
        "            \n",
        "            loss_accum += loss_value\n",
        "\n",
        "\n",
        "        if scheduler:\n",
        "            scheduler.step()\n",
        "\n",
        "        ave_loss = loss_accum / i_step\n",
        "        train_accuracy = float(correct_samples) / total_samples\n",
        "        val_accuracy = compute_accuracy(model, val_loader)\n",
        "        \n",
        "        loss_history.append(float(ave_loss))\n",
        "        train_history.append(train_accuracy)\n",
        "        val_history.append(val_accuracy)\n",
        "        \n",
        "        print(\"Epoch: %i, Average loss: %f, Train accuracy: %f, Val accuracy: %f\" % (epoch, ave_loss, train_accuracy, val_accuracy))\n",
        "        \n",
        "    return loss_history, train_history, val_history\n",
        "        \n",
        "def compute_accuracy(model, loader):\n",
        "    \"\"\"\n",
        "    Computes accuracy on the dataset wrapped in a loader\n",
        "    \n",
        "    Returns: accuracy as a float value between 0 and 1\n",
        "    \"\"\"\n",
        "    model.eval() # Evaluation mode\n",
        "    # TODO: Copy implementation from previous assignment\n",
        "    # Don't forget to move the data to device before running it through the model!\n",
        "    \n",
        "    correct_samples = 0\n",
        "    total_samples = 0\n",
        "    for i_step, (x, y) in enumerate(loader):\n",
        "        x_gpu = x.to(device)\n",
        "        y_gpu = y.to(device)\n",
        "        prediction = model(x_gpu)\n",
        "        _, indices = torch.max(prediction, 1)\n",
        "        correct_samples += torch.sum(indices == y_gpu)\n",
        "        total_samples += y_gpu.shape[0]\n",
        "    return float(correct_samples) / total_samples"
      ],
      "execution_count": 0,
      "outputs": []
    },
    {
      "cell_type": "code",
      "metadata": {
        "id": "cXQBLzXK2-e2",
        "colab_type": "code",
        "colab": {
          "base_uri": "https://localhost:8080/",
          "height": 102
        },
        "outputId": "cda341d7-2b0b-4c57-e59e-d4fa17b911b0"
      },
      "source": [
        "loss_history, train_history, val_history = train_model(nn_model, train_loader, val_loader, loss, optimizer, 5)"
      ],
      "execution_count": 13,
      "outputs": [
        {
          "output_type": "stream",
          "text": [
            "Epoch: 0, Average loss: 1.340151, Train accuracy: 0.554875, Val accuracy: 0.734626\n",
            "Epoch: 1, Average loss: 0.688876, Train accuracy: 0.791472, Val accuracy: 0.815507\n",
            "Epoch: 2, Average loss: 0.586831, Train accuracy: 0.824182, Val accuracy: 0.816736\n",
            "Epoch: 3, Average loss: 0.537926, Train accuracy: 0.840375, Val accuracy: 0.806907\n",
            "Epoch: 4, Average loss: 0.508174, Train accuracy: 0.848667, Val accuracy: 0.844584\n"
          ],
          "name": "stdout"
        }
      ]
    },
    {
      "cell_type": "markdown",
      "metadata": {
        "id": "x8sm4AVjPfN6",
        "colab_type": "text"
      },
      "source": [
        "# Аугментация данных (Data augmentation)"
      ]
    },
    {
      "cell_type": "code",
      "metadata": {
        "id": "at-5mOHLA8tS",
        "colab_type": "code",
        "colab": {}
      },
      "source": [
        "tfs = transforms.Compose([\n",
        "    transforms.ColorJitter(hue=.50, saturation=.50),\n",
        "    transforms.RandomHorizontalFlip(),\n",
        "    transforms.RandomVerticalFlip(),\n",
        "    transforms.RandomRotation(50, resample=PIL.Image.BILINEAR),\n",
        "    transforms.ToTensor(),\n",
        "    transforms.Normalize(mean=[0.43,0.44,0.47],\n",
        "                       std=[0.20,0.20,0.20])                           \n",
        "])\n",
        "\n",
        "# Create augmented train dataset\n",
        "data_aug_train = dset.SVHN('./', \n",
        "                       transform=tfs\n",
        "                      )\n",
        "\n",
        "train_aug_loader = torch.utils.data.DataLoader(data_aug_train, batch_size=batch_size, \n",
        "                                           sampler=train_sampler)"
      ],
      "execution_count": 0,
      "outputs": []
    },
    {
      "cell_type": "code",
      "metadata": {
        "id": "D0w_v-c9BdCU",
        "colab_type": "code",
        "colab": {
          "base_uri": "https://localhost:8080/",
          "height": 193
        },
        "outputId": "7972c248-b709-4e03-9a5e-aad775f898e2"
      },
      "source": [
        "# TODO: Visualize some augmented images!\n",
        "# hint: you can create new datasets and loaders to accomplish this\n",
        "\n",
        "# Based on the visualizations, should we keep all the augmentations?\n",
        "\n",
        "tfs = transforms.Compose([\n",
        "    transforms.ColorJitter(hue=.20, saturation=.20),\n",
        "    transforms.RandomHorizontalFlip(),\n",
        "    transforms.RandomVerticalFlip(),\n",
        "    transforms.RandomRotation(10, resample=PIL.Image.BILINEAR),\n",
        "])\n",
        "\n",
        "data_aug_vis = dset.SVHN('./', \n",
        "                       transform=tfs\n",
        "                      )\n",
        "\n",
        "plt.figure(figsize=(30, 3))\n",
        "\n",
        "for i, (x, y) in enumerate(data_aug_vis):\n",
        "    if i == 10:\n",
        "        break\n",
        "    plt.subplot(1, 10, i+1)\n",
        "    plt.grid(False)\n",
        "    plt.imshow(x)\n",
        "    plt.axis('off')"
      ],
      "execution_count": 15,
      "outputs": [
        {
          "output_type": "display_data",
          "data": {
            "image/png": "[encoded data removed]",
            "text/plain": [
              "<Figure size 2160x216 with 10 Axes>"
            ]
          },
          "metadata": {
            "tags": []
          }
        }
      ]
    },
    {
      "cell_type": "code",
      "metadata": {
        "id": "Dy0-SjLfCnHV",
        "colab_type": "code",
        "colab": {
          "base_uri": "https://localhost:8080/",
          "height": 193
        },
        "outputId": "67a46c8a-827a-497d-9ab3-a4dcea3fe5e2"
      },
      "source": [
        "# TODO: Visualize some augmented images!\n",
        "# hint: you can create new datasets and loaders to accomplish this\n",
        "\n",
        "# Based on the visualizations, should we keep all the augmentations?\n",
        "\n",
        "tfs = transforms.Compose([\n",
        "    transforms.ColorJitter(hue=.10, saturation=.5),\n",
        "    transforms.RandomRotation(10, resample=PIL.Image.BILINEAR),\n",
        "])\n",
        "\n",
        "data_aug_vis = dset.SVHN('./', \n",
        "                       transform=tfs\n",
        "                      )\n",
        "\n",
        "plt.figure(figsize=(30, 3))\n",
        "\n",
        "for i, (x, y) in enumerate(data_aug_vis):\n",
        "    if i == 10:\n",
        "        break\n",
        "    plt.subplot(1, 10, i+1)\n",
        "    plt.grid(False)\n",
        "    plt.imshow(x)\n",
        "    plt.axis('off')"
      ],
      "execution_count": 17,
      "outputs": [
        {
          "output_type": "display_data",
          "data": {
            "image/png": "[encoded data removed]",
            "text/plain": [
              "<Figure size 2160x216 with 10 Axes>"
            ]
          },
          "metadata": {
            "tags": []
          }
        }
      ]
    },
    {
      "cell_type": "code",
      "metadata": {
        "id": "qkQy-mW2BdIh",
        "colab_type": "code",
        "colab": {
          "base_uri": "https://localhost:8080/",
          "height": 102
        },
        "outputId": "b7414ed7-7239-4d7c-be6d-66d38384d56f"
      },
      "source": [
        "nn_model = nn.Sequential(\n",
        "            nn.Conv2d(3, 64, 3, padding=1),\n",
        "            nn.ReLU(inplace=True),\n",
        "            nn.MaxPool2d(4),\n",
        "            nn.Conv2d(64, 64, 3, padding=1),\n",
        "            nn.ReLU(inplace=True),\n",
        "            nn.MaxPool2d(4),    \n",
        "            Flattener(),\n",
        "            nn.Linear(64*2*2, 10),\n",
        "          )\n",
        "\n",
        "nn_model.type(torch.cuda.FloatTensor)\n",
        "nn_model.to(device)\n",
        "\n",
        "loss = nn.CrossEntropyLoss().type(torch.cuda.FloatTensor)\n",
        "optimizer = optim.SGD(nn_model.parameters(), lr=1e-1, weight_decay=1e-4)\n",
        "\n",
        "# TODO: \n",
        "tfs = transforms.Compose([\n",
        "    # TODO: Add good augmentations\n",
        "    transforms.ColorJitter(hue=.10, saturation=.5),\n",
        "    transforms.RandomRotation(10, resample=PIL.Image.BILINEAR),\n",
        "    transforms.ToTensor(),\n",
        "    transforms.Normalize(mean=[0.43,0.44,0.47],\n",
        "                       std=[0.20,0.20,0.20])                           \n",
        "])\n",
        "\n",
        "# TODO create new instances of loaders with the augmentations you chose\n",
        "data_aug_train = dset.SVHN('./', transform=tfs)\n",
        "\n",
        "train_aug_loader = torch.utils.data.DataLoader(data_aug_train, batch_size=batch_size, \n",
        "                                           sampler=train_sampler)\n",
        "\n",
        "# Finally, let's train with augmentations!\n",
        "\n",
        "# Note we shouldn't use augmentations on validation\n",
        "\n",
        "loss_history, train_history, val_history = train_model(nn_model, train_aug_loader, val_loader, loss, optimizer, 5)"
      ],
      "execution_count": 19,
      "outputs": [
        {
          "output_type": "stream",
          "text": [
            "Epoch: 0, Average loss: 1.601525, Train accuracy: 0.456045, Val accuracy: 0.711965\n",
            "Epoch: 1, Average loss: 0.812640, Train accuracy: 0.746886, Val accuracy: 0.773463\n",
            "Epoch: 2, Average loss: 0.700375, Train accuracy: 0.783708, Val accuracy: 0.800218\n",
            "Epoch: 3, Average loss: 0.634848, Train accuracy: 0.806539, Val accuracy: 0.826770\n",
            "Epoch: 4, Average loss: 0.596509, Train accuracy: 0.817305, Val accuracy: 0.819398\n"
          ],
          "name": "stdout"
        }
      ]
    },
    {
      "cell_type": "markdown",
      "metadata": {
        "id": "W1ent_5cNlMv",
        "colab_type": "text"
      },
      "source": [
        "#LeNet"
      ]
    },
    {
      "cell_type": "code",
      "metadata": {
        "id": "Et0LIJH2EZoS",
        "colab_type": "code",
        "colab": {}
      },
      "source": [
        "lenet_model = nn.Sequential(\n",
        "            nn.Conv2d(3, 6, 5, padding=0),\n",
        "            nn.ReLU(inplace=True),\n",
        "            nn.MaxPool2d(2),\n",
        "            nn.Conv2d(6, 16, 5, padding=0),\n",
        "            nn.ReLU(inplace=True),\n",
        "            nn.MaxPool2d(2),\n",
        "            Flattener(),\n",
        "            nn.Linear(16*5*5, 120),\n",
        "            nn.ReLU(inplace=True),\n",
        "            nn.Linear(120, 84),\n",
        "            nn.ReLU(inplace=True),\n",
        "            nn.Linear(84, 10),\n",
        "          )\n",
        "\n",
        "lenet_model.type(torch.cuda.FloatTensor)\n",
        "lenet_model.to(device)\n",
        "\n",
        "loss = nn.CrossEntropyLoss().type(torch.cuda.FloatTensor)\n",
        "optimizer = optim.SGD(lenet_model.parameters(), lr=1e-1, weight_decay=1e-4)"
      ],
      "execution_count": 0,
      "outputs": []
    },
    {
      "cell_type": "code",
      "metadata": {
        "id": "pXGgn0DCKAxZ",
        "colab_type": "code",
        "colab": {
          "base_uri": "https://localhost:8080/",
          "height": 102
        },
        "outputId": "60e1e94d-323f-4dc7-eb04-3e6631356515"
      },
      "source": [
        "loss_history, train_history, val_history = train_model(lenet_model, train_loader, val_loader, loss, optimizer, 5)"
      ],
      "execution_count": 21,
      "outputs": [
        {
          "output_type": "stream",
          "text": [
            "Epoch: 0, Average loss: 1.417868, Train accuracy: 0.516193, Val accuracy: 0.806907\n",
            "Epoch: 1, Average loss: 0.527632, Train accuracy: 0.844026, Val accuracy: 0.847451\n",
            "Epoch: 2, Average loss: 0.422097, Train accuracy: 0.876310, Val accuracy: 0.871203\n",
            "Epoch: 3, Average loss: 0.371808, Train accuracy: 0.889909, Val accuracy: 0.867245\n",
            "Epoch: 4, Average loss: 0.332813, Train accuracy: 0.901734, Val accuracy: 0.883148\n"
          ],
          "name": "stdout"
        }
      ]
    },
    {
      "cell_type": "markdown",
      "metadata": {
        "id": "j8eWJnv-PODg",
        "colab_type": "text"
      },
      "source": [
        "# Подбор гиперпараметров\n"
      ]
    },
    {
      "cell_type": "code",
      "metadata": {
        "id": "GZWJvqkEPM2O",
        "colab_type": "code",
        "colab": {
          "base_uri": "https://localhost:8080/",
          "height": 1000
        },
        "outputId": "d2e4af1d-b15e-4ca8-e6e6-777dbecb47ee"
      },
      "source": [
        "# The key hyperparameters we're going to tune are learning speed, annealing rate and regularization\n",
        "# We also encourage you to try different optimizers as well\n",
        "\n",
        "Hyperparams = namedtuple(\"Hyperparams\", ['learning_rate', 'anneal_epochs', 'reg'])\n",
        "RunResult = namedtuple(\"RunResult\", ['model', 'train_history', 'val_history', 'final_val_accuracy'])\n",
        "\n",
        "#learning_rates = [1e0, 1e-1, 1e-2, 1e-3, 1e-4]\n",
        "learning_rates = [5e-1, 1e-1, 5e-2, 1e-2, 1e-3]\n",
        "#anneal_coeff = 0.2\n",
        "anneal_coeff = 0.3\n",
        "#anneal_epochs = [1, 5, 10, 15, 20, 50]\n",
        "anneal_epochs = [1, 3, 5, 7, 10]\n",
        "#reg = [1e-3, 1e-4, 1e-5, 1e-7]\n",
        "reg = [1e-2, 1e-3, 1e-4, 1e-5]\n",
        "\n",
        "batch_size = 64\n",
        "epoch_num = 10\n",
        "\n",
        "# Record all the runs here\n",
        "# Key should be Hyperparams and values should be RunResult\n",
        "run_record = {} \n",
        "\n",
        "# Use grid search or random search and record all runs in run_record dictionnary \n",
        "# Important: perform search in logarithmic space!\n",
        "# TODO: Your code here!\n",
        "\n",
        "# logspace_learning_rates = np.logspace( np.log10(min(learning_rates)), np.log10(max(learning_rates)), num=len(learning_rates) )\n",
        "# logspace_anneal_epochs = np.logspace( np.log10(min(anneal_epochs)), np.log10(max(anneal_epochs)), num=len(anneal_epochs) )\n",
        "# logspace_reg = np.logspace( np.log10(min(reg)), np.log10(max(reg)), num=len(reg) )\n",
        "\n",
        "params = []\n",
        "params.append(learning_rates)\n",
        "params.append(anneal_epochs)\n",
        "params.append(reg)\n",
        "params = [list(x) for x in np.array(np.meshgrid(*params)).T.reshape(-1,len(params))]\n",
        "\n",
        "hyperparams = []\n",
        "for param in params:\n",
        "    hyperparams.append(Hyperparams(*param))\n",
        "np.random.shuffle(hyperparams)\n",
        "\n",
        "iter_num = 10\n",
        "for i in range(iter_num):\n",
        "    print(hyperparams[i])\n",
        "\n",
        "    train_loader = torch.utils.data.DataLoader(data_train, batch_size=batch_size, \n",
        "                                              sampler=train_sampler)\n",
        "    val_loader = torch.utils.data.DataLoader(data_train, batch_size=batch_size,\n",
        "                                            sampler=val_sampler)\n",
        "\n",
        "    lenet_model = nn.Sequential(\n",
        "                nn.Conv2d(3, 6, 5, padding=0),\n",
        "                nn.ReLU(inplace=True),\n",
        "                nn.MaxPool2d(2),\n",
        "                nn.Conv2d(6, 16, 5, padding=0),\n",
        "                nn.ReLU(inplace=True),\n",
        "                nn.MaxPool2d(2),\n",
        "                Flattener(),\n",
        "                nn.Linear(16*5*5, 120),\n",
        "                nn.ReLU(inplace=True),\n",
        "                nn.Linear(120, 84),\n",
        "                nn.ReLU(inplace=True),\n",
        "                nn.Linear(84, 10),\n",
        "              )\n",
        "\n",
        "    lenet_model.type(torch.cuda.FloatTensor)\n",
        "    lenet_model.to(device)\n",
        "\n",
        "    loss = nn.CrossEntropyLoss().type(torch.cuda.FloatTensor)\n",
        "    optimizer = optim.SGD(lenet_model.parameters(), lr=hyperparams[i].learning_rate, weight_decay=hyperparams[i].reg)\n",
        "    scheduler = optim.lr_scheduler.StepLR(optimizer, hyperparams[i].anneal_epochs, anneal_coeff)\n",
        "    loss_history, train_history, val_history = train_model(lenet_model, train_loader, val_loader, loss, optimizer, epoch_num, scheduler=scheduler)\n",
        "\n",
        "    run_record[hyperparams[i]] = RunResult(lenet_model, train_history, val_history, val_history[-1])"
      ],
      "execution_count": 60,
      "outputs": [
        {
          "output_type": "stream",
          "text": [
            "Hyperparams(learning_rate=0.1, anneal_epochs=3.0, reg=0.001)\n",
            "Epoch: 0, Average loss: 1.169135, Train accuracy: 0.609511, Val accuracy: 0.820081\n",
            "Epoch: 1, Average loss: 0.488606, Train accuracy: 0.856414, Val accuracy: 0.863968\n",
            "Epoch: 2, Average loss: 0.403348, Train accuracy: 0.881002, Val accuracy: 0.851409\n",
            "Epoch: 3, Average loss: 0.291583, Train accuracy: 0.915435, Val accuracy: 0.895707\n",
            "Epoch: 4, Average loss: 0.266158, Train accuracy: 0.922687, Val accuracy: 0.895229\n",
            "Epoch: 5, Average loss: 0.250070, Train accuracy: 0.927448, Val accuracy: 0.898437\n",
            "Epoch: 6, Average loss: 0.214460, Train accuracy: 0.939836, Val accuracy: 0.901372\n",
            "Epoch: 7, Average loss: 0.206025, Train accuracy: 0.942395, Val accuracy: 0.903147\n",
            "Epoch: 8, Average loss: 0.200000, Train accuracy: 0.943948, Val accuracy: 0.902532\n",
            "Epoch: 9, Average loss: 0.188111, Train accuracy: 0.947992, Val accuracy: 0.904989\n",
            "Hyperparams(learning_rate=0.1, anneal_epochs=5.0, reg=0.01)\n",
            "Epoch: 0, Average loss: 1.562086, Train accuracy: 0.458161, Val accuracy: 0.795645\n",
            "Epoch: 1, Average loss: 0.609636, Train accuracy: 0.818312, Val accuracy: 0.785066\n",
            "Epoch: 2, Average loss: 0.539418, Train accuracy: 0.842456, Val accuracy: 0.846768\n",
            "Epoch: 3, Average loss: 0.511105, Train accuracy: 0.852438, Val accuracy: 0.857075\n",
            "Epoch: 4, Average loss: 0.498669, Train accuracy: 0.855834, Val accuracy: 0.856187\n",
            "Epoch: 5, Average loss: 0.391762, Train accuracy: 0.889158, Val accuracy: 0.877756\n",
            "Epoch: 6, Average loss: 0.384070, Train accuracy: 0.892161, Val accuracy: 0.880759\n",
            "Epoch: 7, Average loss: 0.378067, Train accuracy: 0.894806, Val accuracy: 0.884854\n",
            "Epoch: 8, Average loss: 0.376686, Train accuracy: 0.894226, Val accuracy: 0.886902\n",
            "Epoch: 9, Average loss: 0.369967, Train accuracy: 0.895864, Val accuracy: 0.877073\n",
            "Hyperparams(learning_rate=0.001, anneal_epochs=7.0, reg=1e-05)\n",
            "Epoch: 0, Average loss: 2.300710, Train accuracy: 0.107259, Val accuracy: 0.186881\n",
            "Epoch: 1, Average loss: 2.281253, Train accuracy: 0.188667, Val accuracy: 0.191591\n",
            "Epoch: 2, Average loss: 2.263560, Train accuracy: 0.188616, Val accuracy: 0.191591\n",
            "Epoch: 3, Average loss: 2.248710, Train accuracy: 0.188616, Val accuracy: 0.191591\n",
            "Epoch: 4, Average loss: 2.242015, Train accuracy: 0.188616, Val accuracy: 0.191591\n",
            "Epoch: 5, Average loss: 2.239853, Train accuracy: 0.188616, Val accuracy: 0.191591\n",
            "Epoch: 6, Average loss: 2.238738, Train accuracy: 0.188616, Val accuracy: 0.191591\n",
            "Epoch: 7, Average loss: 2.238148, Train accuracy: 0.188616, Val accuracy: 0.191591\n",
            "Epoch: 8, Average loss: 2.237926, Train accuracy: 0.188616, Val accuracy: 0.191591\n",
            "Epoch: 9, Average loss: 2.237674, Train accuracy: 0.188616, Val accuracy: 0.191591\n",
            "Hyperparams(learning_rate=0.05, anneal_epochs=1.0, reg=0.0001)\n",
            "Epoch: 0, Average loss: 1.797145, Train accuracy: 0.375747, Val accuracy: 0.759743\n",
            "Epoch: 1, Average loss: 0.628801, Train accuracy: 0.819780, Val accuracy: 0.829022\n",
            "Epoch: 2, Average loss: 0.525959, Train accuracy: 0.848872, Val accuracy: 0.847246\n",
            "Epoch: 3, Average loss: 0.499464, Train accuracy: 0.858035, Val accuracy: 0.851341\n",
            "Epoch: 4, Average loss: 0.491121, Train accuracy: 0.860970, Val accuracy: 0.852365\n",
            "Epoch: 5, Average loss: 0.488438, Train accuracy: 0.861379, Val accuracy: 0.852775\n",
            "Epoch: 6, Average loss: 0.487686, Train accuracy: 0.861874, Val accuracy: 0.853048\n",
            "Epoch: 7, Average loss: 0.487449, Train accuracy: 0.861652, Val accuracy: 0.853116\n",
            "Epoch: 8, Average loss: 0.487291, Train accuracy: 0.861567, Val accuracy: 0.853116\n",
            "Epoch: 9, Average loss: 0.487368, Train accuracy: 0.861601, Val accuracy: 0.853116\n",
            "Hyperparams(learning_rate=0.001, anneal_epochs=10.0, reg=1e-05)\n",
            "Epoch: 0, Average loss: 2.304278, Train accuracy: 0.084258, Val accuracy: 0.106000\n",
            "Epoch: 1, Average loss: 2.285563, Train accuracy: 0.171757, Val accuracy: 0.192001\n",
            "Epoch: 2, Average loss: 2.271192, Train accuracy: 0.189144, Val accuracy: 0.191455\n",
            "Epoch: 3, Average loss: 2.258270, Train accuracy: 0.188633, Val accuracy: 0.191591\n",
            "Epoch: 4, Average loss: 2.247649, Train accuracy: 0.188616, Val accuracy: 0.191591\n",
            "Epoch: 5, Average loss: 2.241861, Train accuracy: 0.188616, Val accuracy: 0.191591\n",
            "Epoch: 6, Average loss: 2.238947, Train accuracy: 0.188616, Val accuracy: 0.191591\n",
            "Epoch: 7, Average loss: 2.237027, Train accuracy: 0.188616, Val accuracy: 0.191591\n",
            "Epoch: 8, Average loss: 2.235426, Train accuracy: 0.188616, Val accuracy: 0.191591\n",
            "Epoch: 9, Average loss: 2.233821, Train accuracy: 0.188650, Val accuracy: 0.191728\n",
            "Hyperparams(learning_rate=0.01, anneal_epochs=7.0, reg=0.001)\n",
            "Epoch: 0, Average loss: 2.247699, Train accuracy: 0.186141, Val accuracy: 0.191591\n",
            "Epoch: 1, Average loss: 2.209958, Train accuracy: 0.199741, Val accuracy: 0.267081\n",
            "Epoch: 2, Average loss: 1.658370, Train accuracy: 0.450227, Val accuracy: 0.639342\n",
            "Epoch: 3, Average loss: 0.873564, Train accuracy: 0.742467, Val accuracy: 0.791277\n",
            "Epoch: 4, Average loss: 0.638061, Train accuracy: 0.817971, Val accuracy: 0.832708\n",
            "Epoch: 5, Average loss: 0.558216, Train accuracy: 0.840460, Val accuracy: 0.842946\n",
            "Epoch: 6, Average loss: 0.506715, Train accuracy: 0.854452, Val accuracy: 0.847451\n",
            "Epoch: 7, Average loss: 0.452766, Train accuracy: 0.872044, Val accuracy: 0.862194\n",
            "Epoch: 8, Average loss: 0.440490, Train accuracy: 0.874603, Val accuracy: 0.862057\n",
            "Epoch: 9, Average loss: 0.430343, Train accuracy: 0.877965, Val accuracy: 0.862125\n",
            "Hyperparams(learning_rate=0.1, anneal_epochs=3.0, reg=1e-05)\n",
            "Epoch: 0, Average loss: 1.296268, Train accuracy: 0.566085, Val accuracy: 0.791960\n",
            "Epoch: 1, Average loss: 0.520255, Train accuracy: 0.846722, Val accuracy: 0.842127\n",
            "Epoch: 2, Average loss: 0.420366, Train accuracy: 0.876856, Val accuracy: 0.872841\n",
            "Epoch: 3, Average loss: 0.305003, Train accuracy: 0.912893, Val accuracy: 0.893727\n",
            "Epoch: 4, Average loss: 0.277617, Train accuracy: 0.920094, Val accuracy: 0.894137\n",
            "Epoch: 5, Average loss: 0.259023, Train accuracy: 0.925810, Val accuracy: 0.885810\n",
            "Epoch: 6, Average loss: 0.223714, Train accuracy: 0.936679, Val accuracy: 0.897481\n",
            "Epoch: 7, Average loss: 0.215358, Train accuracy: 0.938846, Val accuracy: 0.898232\n",
            "Epoch: 8, Average loss: 0.208786, Train accuracy: 0.940928, Val accuracy: 0.897277\n",
            "Epoch: 9, Average loss: 0.196984, Train accuracy: 0.945620, Val accuracy: 0.898232\n",
            "Hyperparams(learning_rate=0.01, anneal_epochs=10.0, reg=1e-05)\n",
            "Epoch: 0, Average loss: 2.254064, Train accuracy: 0.188206, Val accuracy: 0.191591\n",
            "Epoch: 1, Average loss: 2.231827, Train accuracy: 0.188633, Val accuracy: 0.192683\n",
            "Epoch: 2, Average loss: 2.126201, Train accuracy: 0.240777, Val accuracy: 0.426729\n",
            "Epoch: 3, Average loss: 1.148201, Train accuracy: 0.638211, Val accuracy: 0.742475\n",
            "Epoch: 4, Average loss: 0.735314, Train accuracy: 0.786438, Val accuracy: 0.798512\n",
            "Epoch: 5, Average loss: 0.618045, Train accuracy: 0.823380, Val accuracy: 0.825268\n",
            "Epoch: 6, Average loss: 0.550064, Train accuracy: 0.841979, Val accuracy: 0.846768\n",
            "Epoch: 7, Average loss: 0.505359, Train accuracy: 0.856602, Val accuracy: 0.847178\n",
            "Epoch: 8, Average loss: 0.469350, Train accuracy: 0.864638, Val accuracy: 0.857484\n",
            "Epoch: 9, Average loss: 0.441657, Train accuracy: 0.872812, Val accuracy: 0.864583\n",
            "Hyperparams(learning_rate=0.001, anneal_epochs=3.0, reg=0.001)\n",
            "Epoch: 0, Average loss: 2.290381, Train accuracy: 0.186431, Val accuracy: 0.191591\n",
            "Epoch: 1, Average loss: 2.276034, Train accuracy: 0.188616, Val accuracy: 0.191591\n",
            "Epoch: 2, Average loss: 2.265245, Train accuracy: 0.188616, Val accuracy: 0.191591\n",
            "Epoch: 3, Average loss: 2.259351, Train accuracy: 0.188616, Val accuracy: 0.191591\n",
            "Epoch: 4, Average loss: 2.256922, Train accuracy: 0.188616, Val accuracy: 0.191591\n",
            "Epoch: 5, Average loss: 2.254681, Train accuracy: 0.188616, Val accuracy: 0.191591\n",
            "Epoch: 6, Average loss: 2.253262, Train accuracy: 0.188616, Val accuracy: 0.191591\n",
            "Epoch: 7, Average loss: 2.252653, Train accuracy: 0.188616, Val accuracy: 0.191591\n",
            "Epoch: 8, Average loss: 2.252030, Train accuracy: 0.188616, Val accuracy: 0.191591\n",
            "Epoch: 9, Average loss: 2.251657, Train accuracy: 0.188616, Val accuracy: 0.191591\n",
            "Hyperparams(learning_rate=0.001, anneal_epochs=1.0, reg=1e-05)\n",
            "Epoch: 0, Average loss: 2.284605, Train accuracy: 0.174709, Val accuracy: 0.191591\n",
            "Epoch: 1, Average loss: 2.271681, Train accuracy: 0.188616, Val accuracy: 0.191591\n",
            "Epoch: 2, Average loss: 2.267822, Train accuracy: 0.188616, Val accuracy: 0.191591\n",
            "Epoch: 3, Average loss: 2.266660, Train accuracy: 0.188616, Val accuracy: 0.191591\n",
            "Epoch: 4, Average loss: 2.266312, Train accuracy: 0.188616, Val accuracy: 0.191591\n",
            "Epoch: 5, Average loss: 2.266214, Train accuracy: 0.188616, Val accuracy: 0.191591\n",
            "Epoch: 6, Average loss: 2.266179, Train accuracy: 0.188616, Val accuracy: 0.191591\n",
            "Epoch: 7, Average loss: 2.266168, Train accuracy: 0.188616, Val accuracy: 0.191591\n",
            "Epoch: 8, Average loss: 2.266171, Train accuracy: 0.188616, Val accuracy: 0.191591\n",
            "Epoch: 9, Average loss: 2.266173, Train accuracy: 0.188616, Val accuracy: 0.191591\n"
          ],
          "name": "stdout"
        }
      ]
    },
    {
      "cell_type": "code",
      "metadata": {
        "id": "7sc_Oo_vQYMQ",
        "colab_type": "code",
        "colab": {
          "base_uri": "https://localhost:8080/",
          "height": 34
        },
        "outputId": "507d6947-bdc4-4673-e5cb-93049af1bd05"
      },
      "source": [
        "best_val_accuracy = None\n",
        "best_hyperparams = None\n",
        "best_run = None\n",
        "\n",
        "for hyperparams, run_result in run_record.items():\n",
        "    if best_val_accuracy is None or best_val_accuracy < run_result.final_val_accuracy:\n",
        "        best_val_accuracy = run_result.final_val_accuracy\n",
        "        best_hyperparams = hyperparams\n",
        "        best_run = run_result\n",
        "        \n",
        "print(\"Best validation accuracy: %4.2f, best hyperparams: %s\" % (best_val_accuracy, best_hyperparams))"
      ],
      "execution_count": 55,
      "outputs": [
        {
          "output_type": "stream",
          "text": [
            "Best validation accuracy: 0.90, best hyperparams: Hyperparams(learning_rate=0.1, anneal_epochs=5.0, reg=0.001)\n"
          ],
          "name": "stdout"
        }
      ]
    },
    {
      "cell_type": "markdown",
      "metadata": {
        "id": "dO4T3x27jJRj",
        "colab_type": "text"
      },
      "source": [
        "#Свободное упражнение - догоним и перегоним LeNet!\n",
        "# Финальный аккорд - проверим лучшую модель на test set"
      ]
    },
    {
      "cell_type": "code",
      "metadata": {
        "id": "hKvPT0VjGGjZ",
        "colab_type": "code",
        "colab": {
          "base_uri": "https://localhost:8080/",
          "height": 210
        },
        "outputId": "86269c71-62a3-4e85-bef8-9cb946e53afc"
      },
      "source": [
        "tfs = transforms.Compose([\n",
        "    transforms.ColorJitter(hue=.5, saturation=.5),  \n",
        "    transforms.RandomRotation(15, resample=PIL.Image.BILINEAR),\n",
        "])\n",
        "\n",
        "\n",
        "data_aug_vis = torch.utils.data.ConcatDataset(\n",
        "        [dset.SVHN('./', transform=tfs),\n",
        "         dset.SVHN('./', transform=tfs)\n",
        "         ])\n",
        "\n",
        "plt.figure(figsize=(30, 3))\n",
        "\n",
        "print(len(data_train), len(data_aug_vis))\n",
        "\n",
        "for i, (x, y) in enumerate(data_aug_vis):\n",
        "    if i == 10:\n",
        "        break\n",
        "    plt.subplot(1, 10, i+1)\n",
        "    plt.grid(False)\n",
        "    plt.imshow(x)\n",
        "    plt.axis('off')"
      ],
      "execution_count": 79,
      "outputs": [
        {
          "output_type": "stream",
          "text": [
            "73257 146514\n"
          ],
          "name": "stdout"
        },
        {
          "output_type": "display_data",
          "data": {
            "image/png": "[encoded data removed]",
            "text/plain": [
              "<Figure size 2160x216 with 10 Axes>"
            ]
          },
          "metadata": {
            "tags": []
          }
        }
      ]
    },
    {
      "cell_type": "markdown",
      "metadata": {
        "id": "mXPTljIfOkHG",
        "colab_type": "text"
      },
      "source": [
        "#test 1"
      ]
    },
    {
      "cell_type": "code",
      "metadata": {
        "id": "uYsq9CS-GGxu",
        "colab_type": "code",
        "colab": {
          "base_uri": "https://localhost:8080/",
          "height": 384
        },
        "outputId": "0912d4a4-ca54-4504-c2b7-99fe87bdae8f"
      },
      "source": [
        "lr = 1e-1\n",
        "l2 = 1e-3\n",
        "anneal_coeff = 0.3\n",
        "anneal_epochs = 3\n",
        "batch_size = 64\n",
        "epoch_num = 6\n",
        "validation_split = .2\n",
        "augment_part = .3\n",
        "\n",
        "nn_model = nn.Sequential(\n",
        "            nn.Conv2d(3, 6, 5, padding=0),\n",
        "            nn.ReLU(inplace=True),\n",
        "            nn.MaxPool2d(2),\n",
        "            nn.Conv2d(6, 16, 5, padding=0),\n",
        "            nn.ReLU(inplace=True),\n",
        "            nn.MaxPool2d(2),\n",
        "            Flattener(),\n",
        "            nn.Linear(16*5*5, 120),\n",
        "            nn.ReLU(inplace=True),\n",
        "            nn.Linear(120, 84),\n",
        "            nn.ReLU(inplace=True),\n",
        "            nn.Linear(84, 10),\n",
        "          )\n",
        "nn_model.type(torch.cuda.FloatTensor)\n",
        "nn_model.to(device)\n",
        "\n",
        "tfs = transforms.Compose([\n",
        "    transforms.ToTensor(),\n",
        "    transforms.Normalize(mean=[0.43,0.44,0.47],\n",
        "                       std=[0.20,0.20,0.20])                           \n",
        "])\n",
        "\n",
        "tfs_augment = transforms.Compose([\n",
        "    transforms.ColorJitter(hue=.10, saturation=.5),\n",
        "    transforms.RandomRotation(10, resample=PIL.Image.BILINEAR),\n",
        "    transforms.ToTensor(),\n",
        "    transforms.Normalize(mean=[0.43,0.44,0.47],\n",
        "                       std=[0.20,0.20,0.20])                           \n",
        "])\n",
        "\n",
        "data_train = dset.SVHN('./', split='train', transform=tfs)\n",
        "data_augment = dset.SVHN('./', split='train', transform=tfs_augment)\n",
        "data_test = dset.SVHN('./', split='test', transform=tfs)\n",
        "\n",
        "data_size = data_train.data.shape[0]\n",
        "valid_size = int(data_size * validation_split)\n",
        "train_size = data_size - valid_size\n",
        "data_train, data_valid = torch.utils.data.random_split(data_train, (train_size, valid_size))\n",
        "loader_valid = torch.utils.data.DataLoader(data_valid, batch_size=batch_size)\n",
        "\n",
        "augment_size = data_augment.data.shape[0]\n",
        "drop_aug_size = int(augment_size * augment_part)\n",
        "train_aug_size = augment_size - drop_aug_size\n",
        "data_augment, _ = torch.utils.data.random_split(data_augment, (train_aug_size, drop_aug_size))\n",
        "data_train_plus_aug = torch.utils.data.ConcatDataset([\n",
        "          data_train,\n",
        "          data_augment\n",
        "          ])\n",
        "loader_train = torch.utils.data.DataLoader(data_train_plus_aug, batch_size=batch_size, shuffle=True)\n",
        "\n",
        "loader_test = torch.utils.data.DataLoader(data_test, batch_size=batch_size)\n",
        "\n",
        "\n",
        "loss = nn.CrossEntropyLoss().type(torch.cuda.FloatTensor)\n",
        "optimizer = optim.SGD(nn_model.parameters(), lr=lr, weight_decay=l2)\n",
        "scheduler = optim.lr_scheduler.StepLR(optimizer, anneal_epochs, anneal_coeff)\n",
        "loss_history, train_history, val_history = train_model(nn_model, loader_train, loader_valid, loss, optimizer, epoch_num, scheduler=scheduler)\n",
        "\n",
        "test_accuracy = compute_accuracy(nn_model, loader_test)\n",
        "print(\"Test accuracy: %2.4f\" % test_accuracy)\n",
        "plt.plot(train_history)\n",
        "plt.plot(val_history);"
      ],
      "execution_count": 91,
      "outputs": [
        {
          "output_type": "stream",
          "text": [
            "Epoch: 0, Average loss: 0.907857, Train accuracy: 0.703820, Val accuracy: 0.865743\n",
            "Epoch: 1, Average loss: 0.427387, Train accuracy: 0.872996, Val accuracy: 0.892772\n",
            "Epoch: 2, Average loss: 0.359854, Train accuracy: 0.892934, Val accuracy: 0.902805\n",
            "Epoch: 3, Average loss: 0.260940, Train accuracy: 0.923766, Val accuracy: 0.920756\n",
            "Epoch: 4, Average loss: 0.236688, Train accuracy: 0.930728, Val accuracy: 0.922121\n",
            "Epoch: 5, Average loss: 0.225161, Train accuracy: 0.933886, Val accuracy: 0.928128\n",
            "Test accuracy: 0.9061\n"
          ],
          "name": "stdout"
        },
        {
          "output_type": "display_data",
          "data": {
            "image/png": "[encoded data removed]",
            "text/plain": [
              "<Figure size 432x288 with 1 Axes>"
            ]
          },
          "metadata": {
            "tags": []
          }
        }
      ]
    },
    {
      "cell_type": "markdown",
      "metadata": {
        "id": "lkWqTzRBOn3k",
        "colab_type": "text"
      },
      "source": [
        "#test 2"
      ]
    },
    {
      "cell_type": "code",
      "metadata": {
        "id": "rqwY092IHBDE",
        "colab_type": "code",
        "colab": {
          "base_uri": "https://localhost:8080/",
          "height": 384
        },
        "outputId": "aac13249-7f2e-4a52-f7c1-f1f28364aeb1"
      },
      "source": [
        "lr = 1e-1\n",
        "l2 = 1e-3\n",
        "anneal_coeff = 0.3\n",
        "anneal_epochs = 3\n",
        "batch_size = 64\n",
        "epoch_num = 6\n",
        "validation_split = .2\n",
        "augment_part = .3\n",
        "\n",
        "nn_model = nn.Sequential(\n",
        "            nn.Conv2d(3, 12, 5, padding=0),\n",
        "            nn.BatchNorm2d(12),\n",
        "            nn.LeakyReLU(inplace=True),\n",
        "            nn.MaxPool2d(2),\n",
        "\n",
        "            nn.Conv2d(12, 32, 5, padding=0),\n",
        "            nn.BatchNorm2d(32),\n",
        "            nn.LeakyReLU(inplace=True),\n",
        "            nn.MaxPool2d(2),\n",
        "\n",
        "            Flattener(),\n",
        "            nn.Linear(32*5*5, 120),\n",
        "            nn.BatchNorm1d(120),\n",
        "            nn.LeakyReLU(inplace=True),\n",
        "\n",
        "            nn.Linear(120, 84),\n",
        "            nn.BatchNorm1d(84),\n",
        "            nn.LeakyReLU(inplace=True),\n",
        "\n",
        "            nn.Linear(84, 10),\n",
        "          )\n",
        "nn_model.type(torch.cuda.FloatTensor)\n",
        "nn_model.to(device)\n",
        "\n",
        "def init_normal(m):\n",
        "    if type(m) == nn.Linear or type(m) == nn.Conv2d:\n",
        "        nn.init.kaiming_normal_(m.weight, nonlinearity='leaky_relu')\n",
        "nn_model.apply(init_normal)\n",
        "\n",
        "tfs = transforms.Compose([\n",
        "    transforms.ToTensor(),\n",
        "    transforms.Normalize(mean=[0.43,0.44,0.47],\n",
        "                       std=[0.20,0.20,0.20])                           \n",
        "])\n",
        "\n",
        "tfs_augment = transforms.Compose([\n",
        "    transforms.ColorJitter(hue=.10, saturation=.5),\n",
        "    transforms.RandomRotation(10, resample=PIL.Image.BILINEAR),\n",
        "    transforms.ToTensor(),\n",
        "    transforms.Normalize(mean=[0.43,0.44,0.47],\n",
        "                       std=[0.20,0.20,0.20])                           \n",
        "])\n",
        "\n",
        "data_train = dset.SVHN('./', split='train', transform=tfs)\n",
        "data_augment = dset.SVHN('./', split='train', transform=tfs_augment)\n",
        "data_test = dset.SVHN('./', split='test', transform=tfs)\n",
        "\n",
        "data_size = data_train.data.shape[0]\n",
        "valid_size = int(data_size * validation_split)\n",
        "train_size = data_size - valid_size\n",
        "data_train, data_valid = torch.utils.data.random_split(data_train, (train_size, valid_size))\n",
        "loader_valid = torch.utils.data.DataLoader(data_valid, batch_size=batch_size)\n",
        "\n",
        "augment_size = data_augment.data.shape[0]\n",
        "drop_aug_size = int(augment_size * augment_part)\n",
        "train_aug_size = augment_size - drop_aug_size\n",
        "data_augment, _ = torch.utils.data.random_split(data_augment, (train_aug_size, drop_aug_size))\n",
        "data_train_plus_aug = torch.utils.data.ConcatDataset([\n",
        "          data_train,\n",
        "          data_augment\n",
        "          ])\n",
        "loader_train = torch.utils.data.DataLoader(data_train_plus_aug, batch_size=batch_size, shuffle=True)\n",
        "\n",
        "loader_test = torch.utils.data.DataLoader(data_test, batch_size=batch_size)\n",
        "\n",
        "\n",
        "loss = nn.CrossEntropyLoss().type(torch.cuda.FloatTensor)\n",
        "optimizer = optim.SGD(nn_model.parameters(), lr=lr, weight_decay=l2)\n",
        "#optimizer = optim.Adam(nn_model.parameters(), lr=lr, weight_decay=l2)\n",
        "#scheduler = optim.lr_scheduler.StepLR(optimizer, anneal_epochs, anneal_coeff)\n",
        "scheduler = optim.lr_scheduler.CosineAnnealingLR(optimizer, epoch_num, eta_min=0)\n",
        "loss_history, train_history, val_history = train_model(nn_model, loader_train, loader_valid, loss, optimizer, epoch_num, scheduler=scheduler)\n",
        "\n",
        "test_accuracy = compute_accuracy(nn_model, loader_test)\n",
        "print(\"Test accuracy: %2.4f\" % test_accuracy)\n",
        "plt.plot(train_history)\n",
        "plt.plot(val_history);"
      ],
      "execution_count": 100,
      "outputs": [
        {
          "output_type": "stream",
          "text": [
            "Epoch: 0, Average loss: 0.614393, Train accuracy: 0.809848, Val accuracy: 0.876937\n",
            "Epoch: 1, Average loss: 0.382457, Train accuracy: 0.883525, Val accuracy: 0.903693\n",
            "Epoch: 2, Average loss: 0.319889, Train accuracy: 0.902999, Val accuracy: 0.912907\n",
            "Epoch: 3, Average loss: 0.272656, Train accuracy: 0.918152, Val accuracy: 0.921234\n",
            "Epoch: 4, Average loss: 0.233655, Train accuracy: 0.930992, Val accuracy: 0.933520\n",
            "Epoch: 5, Average loss: 0.205418, Train accuracy: 0.940147, Val accuracy: 0.936387\n",
            "Test accuracy: 0.9112\n"
          ],
          "name": "stdout"
        },
        {
          "output_type": "display_data",
          "data": {
            "image/png": "[encoded data removed]",
            "text/plain": [
              "<Figure size 432x288 with 1 Axes>"
            ]
          },
          "metadata": {
            "tags": []
          }
        }
      ]
    },
    {
      "cell_type": "markdown",
      "metadata": {
        "id": "ViqgKODzTCZN",
        "colab_type": "text"
      },
      "source": [
        "#test 3"
      ]
    },
    {
      "cell_type": "code",
      "metadata": {
        "id": "32ZYDm_4HBKQ",
        "colab_type": "code",
        "colab": {
          "base_uri": "https://localhost:8080/",
          "height": 384
        },
        "outputId": "e9864fd2-d749-40fc-91c3-97c21b0d78b2"
      },
      "source": [
        "lr = 1e-1\n",
        "l2 = 1e-3\n",
        "anneal_coeff = 0.3\n",
        "anneal_epochs = 3\n",
        "batch_size = 64\n",
        "epoch_num = 6\n",
        "validation_split = .2\n",
        "augment_part = .3\n",
        "\n",
        "nn_model = nn.Sequential(\n",
        "            nn.Conv2d(3, 24, 5, padding=0),\n",
        "            nn.BatchNorm2d(24),\n",
        "            nn.LeakyReLU(inplace=True),\n",
        "            nn.MaxPool2d(2),\n",
        "\n",
        "            nn.Conv2d(24, 64, 5, padding=0),\n",
        "            nn.BatchNorm2d(64),\n",
        "            nn.LeakyReLU(inplace=True),\n",
        "            nn.MaxPool2d(2),\n",
        "\n",
        "            Flattener(),\n",
        "            nn.Linear(64*5*5, 450),\n",
        "            nn.BatchNorm1d(450),\n",
        "            nn.LeakyReLU(inplace=True),\n",
        "\n",
        "            nn.Linear(450, 240),\n",
        "            nn.BatchNorm1d(240),\n",
        "            nn.LeakyReLU(inplace=True),\n",
        "\n",
        "            nn.Linear(240, 84),\n",
        "            nn.BatchNorm1d(84),\n",
        "            nn.LeakyReLU(inplace=True),\n",
        "\n",
        "            nn.Linear(84, 10),\n",
        "          )\n",
        "nn_model.type(torch.cuda.FloatTensor)\n",
        "nn_model.to(device)\n",
        "\n",
        "def init_normal(m):\n",
        "    if type(m) == nn.Linear or type(m) == nn.Conv2d:\n",
        "        nn.init.kaiming_normal_(m.weight, nonlinearity='leaky_relu')\n",
        "nn_model.apply(init_normal)\n",
        "\n",
        "tfs = transforms.Compose([\n",
        "    transforms.ToTensor(),\n",
        "    transforms.Normalize(mean=[0.43,0.44,0.47],\n",
        "                       std=[0.20,0.20,0.20])                           \n",
        "])\n",
        "\n",
        "tfs_augment = transforms.Compose([\n",
        "    transforms.ColorJitter(hue=.10, saturation=.5),\n",
        "    transforms.RandomRotation(10, resample=PIL.Image.BILINEAR),\n",
        "    transforms.ToTensor(),\n",
        "    transforms.Normalize(mean=[0.43,0.44,0.47],\n",
        "                       std=[0.20,0.20,0.20])                           \n",
        "])\n",
        "\n",
        "data_train = dset.SVHN('./', split='train', transform=tfs)\n",
        "data_augment = dset.SVHN('./', split='train', transform=tfs_augment)\n",
        "data_test = dset.SVHN('./', split='test', transform=tfs)\n",
        "\n",
        "data_size = data_train.data.shape[0]\n",
        "valid_size = int(data_size * validation_split)\n",
        "train_size = data_size - valid_size\n",
        "data_train, data_valid = torch.utils.data.random_split(data_train, (train_size, valid_size))\n",
        "loader_valid = torch.utils.data.DataLoader(data_valid, batch_size=batch_size)\n",
        "\n",
        "augment_size = data_augment.data.shape[0]\n",
        "drop_aug_size = int(augment_size * augment_part)\n",
        "train_aug_size = augment_size - drop_aug_size\n",
        "data_augment, _ = torch.utils.data.random_split(data_augment, (train_aug_size, drop_aug_size))\n",
        "data_train_plus_aug = torch.utils.data.ConcatDataset([\n",
        "          data_train,\n",
        "          data_augment\n",
        "          ])\n",
        "loader_train = torch.utils.data.DataLoader(data_train_plus_aug, batch_size=batch_size, shuffle=True)\n",
        "\n",
        "loader_test = torch.utils.data.DataLoader(data_test, batch_size=batch_size)\n",
        "\n",
        "\n",
        "loss = nn.CrossEntropyLoss().type(torch.cuda.FloatTensor)\n",
        "optimizer = optim.SGD(nn_model.parameters(), lr=lr, weight_decay=l2)\n",
        "#optimizer = optim.Adam(nn_model.parameters(), lr=lr, weight_decay=l2)\n",
        "#scheduler = optim.lr_scheduler.StepLR(optimizer, anneal_epochs, anneal_coeff)\n",
        "scheduler = optim.lr_scheduler.CosineAnnealingLR(optimizer, epoch_num, eta_min=0)\n",
        "loss_history, train_history, val_history = train_model(nn_model, loader_train, loader_valid, loss, optimizer, epoch_num, scheduler=scheduler)\n",
        "\n",
        "test_accuracy = compute_accuracy(nn_model, loader_test)\n",
        "print(\"Test accuracy: %2.4f\" % test_accuracy)\n",
        "plt.plot(train_history)\n",
        "plt.plot(val_history);"
      ],
      "execution_count": 101,
      "outputs": [
        {
          "output_type": "stream",
          "text": [
            "Epoch: 0, Average loss: 0.552403, Train accuracy: 0.828750, Val accuracy: 0.896594\n",
            "Epoch: 1, Average loss: 0.323012, Train accuracy: 0.902453, Val accuracy: 0.923964\n",
            "Epoch: 2, Average loss: 0.250751, Train accuracy: 0.924121, Val accuracy: 0.934134\n",
            "Epoch: 3, Average loss: 0.192586, Train accuracy: 0.942768, Val accuracy: 0.946079\n",
            "Epoch: 4, Average loss: 0.138444, Train accuracy: 0.960596, Val accuracy: 0.957819\n",
            "Epoch: 5, Average loss: 0.104157, Train accuracy: 0.971652, Val accuracy: 0.963688\n",
            "Test accuracy: 0.9204\n"
          ],
          "name": "stdout"
        },
        {
          "output_type": "display_data",
          "data": {
            "image/png": "[encoded data removed]",
            "text/plain": [
              "<Figure size 432x288 with 1 Axes>"
            ]
          },
          "metadata": {
            "tags": []
          }
        }
      ]
    },
    {
      "cell_type": "markdown",
      "metadata": {
        "id": "EAsBELqKUG-Y",
        "colab_type": "text"
      },
      "source": [
        "#test 4"
      ]
    },
    {
      "cell_type": "code",
      "metadata": {
        "id": "K_pX5YlbS_wK",
        "colab_type": "code",
        "colab": {
          "base_uri": "https://localhost:8080/",
          "height": 384
        },
        "outputId": "9a4f7f70-997f-4642-efe7-1f1987d5b404"
      },
      "source": [
        "lr = 1e-2\n",
        "l2 = 1e-6\n",
        "anneal_coeff = 0.3\n",
        "anneal_epochs = 3\n",
        "batch_size = 64\n",
        "epoch_num = 6\n",
        "validation_split = .2\n",
        "augment_part = .3\n",
        "\n",
        "nn_model = nn.Sequential(\n",
        "            nn.Conv2d(3, 24, 5, padding=0),\n",
        "            nn.BatchNorm2d(24),\n",
        "            nn.LeakyReLU(inplace=True),\n",
        "            nn.MaxPool2d(2),\n",
        "\n",
        "            nn.Conv2d(24, 64, 5, padding=0),\n",
        "            nn.BatchNorm2d(64),\n",
        "            nn.LeakyReLU(inplace=True),\n",
        "            nn.MaxPool2d(2),\n",
        "\n",
        "            Flattener(),\n",
        "            nn.Linear(64*5*5, 450),\n",
        "            nn.BatchNorm1d(450),\n",
        "            nn.LeakyReLU(inplace=True),\n",
        "\n",
        "            nn.Linear(450, 240),\n",
        "            nn.BatchNorm1d(240),\n",
        "            nn.LeakyReLU(inplace=True),\n",
        "\n",
        "            nn.Linear(240, 84),\n",
        "            nn.BatchNorm1d(84),\n",
        "            nn.LeakyReLU(inplace=True),\n",
        "\n",
        "            nn.Linear(84, 10),\n",
        "          )\n",
        "nn_model.type(torch.cuda.FloatTensor)\n",
        "nn_model.to(device)\n",
        "\n",
        "def init_normal(m):\n",
        "    if type(m) == nn.Linear or type(m) == nn.Conv2d:\n",
        "        nn.init.kaiming_normal_(m.weight, nonlinearity='leaky_relu')\n",
        "nn_model.apply(init_normal)\n",
        "\n",
        "tfs = transforms.Compose([\n",
        "    transforms.ToTensor(),\n",
        "    transforms.Normalize(mean=[0.43,0.44,0.47],\n",
        "                       std=[0.20,0.20,0.20])                           \n",
        "])\n",
        "\n",
        "tfs_augment = transforms.Compose([\n",
        "    transforms.ColorJitter(hue=.10, saturation=.5),\n",
        "    transforms.RandomRotation(10, resample=PIL.Image.BILINEAR),\n",
        "    transforms.ToTensor(),\n",
        "    transforms.Normalize(mean=[0.43,0.44,0.47],\n",
        "                       std=[0.20,0.20,0.20])                           \n",
        "])\n",
        "\n",
        "data_train = dset.SVHN('./', split='train', transform=tfs)\n",
        "data_augment = dset.SVHN('./', split='train', transform=tfs_augment)\n",
        "data_test = dset.SVHN('./', split='test', transform=tfs)\n",
        "\n",
        "data_size = data_train.data.shape[0]\n",
        "valid_size = int(data_size * validation_split)\n",
        "train_size = data_size - valid_size\n",
        "data_train, data_valid = torch.utils.data.random_split(data_train, (train_size, valid_size))\n",
        "loader_valid = torch.utils.data.DataLoader(data_valid, batch_size=batch_size)\n",
        "\n",
        "augment_size = data_augment.data.shape[0]\n",
        "drop_aug_size = int(augment_size * augment_part)\n",
        "train_aug_size = augment_size - drop_aug_size\n",
        "data_augment, _ = torch.utils.data.random_split(data_augment, (train_aug_size, drop_aug_size))\n",
        "data_train_plus_aug = torch.utils.data.ConcatDataset([\n",
        "          data_train,\n",
        "          data_augment\n",
        "          ])\n",
        "loader_train = torch.utils.data.DataLoader(data_train_plus_aug, batch_size=batch_size, shuffle=True)\n",
        "\n",
        "loader_test = torch.utils.data.DataLoader(data_test, batch_size=batch_size)\n",
        "\n",
        "\n",
        "loss = nn.CrossEntropyLoss().type(torch.cuda.FloatTensor)\n",
        "#optimizer = optim.SGD(nn_model.parameters(), lr=lr, weight_decay=l2)\n",
        "optimizer = optim.Adam(nn_model.parameters(), lr=lr, weight_decay=l2)\n",
        "#scheduler = optim.lr_scheduler.StepLR(optimizer, anneal_epochs, anneal_coeff)\n",
        "scheduler = optim.lr_scheduler.CosineAnnealingLR(optimizer, epoch_num, eta_min=0)\n",
        "loss_history, train_history, val_history = train_model(nn_model, loader_train, loader_valid, loss, optimizer, epoch_num, scheduler=scheduler)\n",
        "\n",
        "test_accuracy = compute_accuracy(nn_model, loader_test)\n",
        "print(\"Test accuracy: %2.4f\" % test_accuracy)\n",
        "plt.plot(train_history)\n",
        "plt.plot(val_history);"
      ],
      "execution_count": 103,
      "outputs": [
        {
          "output_type": "stream",
          "text": [
            "Epoch: 0, Average loss: 0.620999, Train accuracy: 0.801958, Val accuracy: 0.888881\n",
            "Epoch: 1, Average loss: 0.341344, Train accuracy: 0.896220, Val accuracy: 0.913316\n",
            "Epoch: 2, Average loss: 0.262728, Train accuracy: 0.920836, Val accuracy: 0.932223\n",
            "Epoch: 3, Average loss: 0.195399, Train accuracy: 0.941421, Val accuracy: 0.944509\n",
            "Epoch: 4, Average loss: 0.123926, Train accuracy: 0.962880, Val accuracy: 0.955976\n",
            "Epoch: 5, Average loss: 0.077674, Train accuracy: 0.976612, Val accuracy: 0.963552\n",
            "Test accuracy: 0.9253\n"
          ],
          "name": "stdout"
        },
        {
          "output_type": "display_data",
          "data": {
            "image/png": "[encoded data removed]",
            "text/plain": [
              "<Figure size 432x288 with 1 Axes>"
            ]
          },
          "metadata": {
            "tags": []
          }
        }
      ]
    },
    {
      "cell_type": "markdown",
      "metadata": {
        "id": "mz8QyW5wZzpx",
        "colab_type": "text"
      },
      "source": [
        "#test 5"
      ]
    },
    {
      "cell_type": "code",
      "metadata": {
        "id": "5IeBSTevYJWj",
        "colab_type": "code",
        "colab": {
          "base_uri": "https://localhost:8080/",
          "height": 384
        },
        "outputId": "17365987-233b-4560-854e-3c372e246952"
      },
      "source": [
        "lr = 1e-2\n",
        "l2 = 1e-4\n",
        "anneal_coeff = 0.3\n",
        "anneal_epochs = 3\n",
        "batch_size = 512\n",
        "epoch_num = 6\n",
        "validation_split = .2\n",
        "augment_part = .3\n",
        "\n",
        "nn_model = nn.Sequential(\n",
        "            nn.Conv2d(3, 24, 5, padding=0),\n",
        "            nn.BatchNorm2d(24),\n",
        "            nn.LeakyReLU(inplace=True),\n",
        "            nn.MaxPool2d(2),\n",
        "\n",
        "            nn.Conv2d(24, 64, 5, padding=0),\n",
        "            nn.BatchNorm2d(64),\n",
        "            nn.LeakyReLU(inplace=True),\n",
        "            nn.MaxPool2d(2),\n",
        "\n",
        "            Flattener(),\n",
        "            nn.Linear(64*5*5, 450),\n",
        "            nn.BatchNorm1d(450),\n",
        "            nn.LeakyReLU(inplace=True),\n",
        "\n",
        "            nn.Linear(450, 240),\n",
        "            nn.BatchNorm1d(240),\n",
        "            nn.LeakyReLU(inplace=True),\n",
        "\n",
        "            nn.Linear(240, 84),\n",
        "            nn.BatchNorm1d(84),\n",
        "            nn.LeakyReLU(inplace=True),\n",
        "\n",
        "            nn.Linear(84, 10),\n",
        "          )\n",
        "nn_model.type(torch.cuda.FloatTensor)\n",
        "nn_model.to(device)\n",
        "\n",
        "def init_normal(m):\n",
        "    if type(m) == nn.Linear or type(m) == nn.Conv2d:\n",
        "        nn.init.kaiming_normal_(m.weight, nonlinearity='leaky_relu')\n",
        "nn_model.apply(init_normal)\n",
        "\n",
        "tfs = transforms.Compose([\n",
        "    transforms.ToTensor(),\n",
        "    transforms.Normalize(mean=[0.43,0.44,0.47],\n",
        "                       std=[0.20,0.20,0.20])                           \n",
        "])\n",
        "\n",
        "tfs_augment = transforms.Compose([\n",
        "    transforms.ColorJitter(hue=.10, saturation=.5),\n",
        "    transforms.RandomRotation(10, resample=PIL.Image.BILINEAR),\n",
        "    transforms.ToTensor(),\n",
        "    transforms.Normalize(mean=[0.43,0.44,0.47],\n",
        "                       std=[0.20,0.20,0.20])                           \n",
        "])\n",
        "\n",
        "data_train = dset.SVHN('./', split='train', transform=tfs)\n",
        "data_augment = dset.SVHN('./', split='train', transform=tfs_augment)\n",
        "data_test = dset.SVHN('./', split='test', transform=tfs)\n",
        "\n",
        "data_size = data_train.data.shape[0]\n",
        "valid_size = int(data_size * validation_split)\n",
        "train_size = data_size - valid_size\n",
        "data_train, data_valid = torch.utils.data.random_split(data_train, (train_size, valid_size))\n",
        "loader_valid = torch.utils.data.DataLoader(data_valid, batch_size=batch_size)\n",
        "\n",
        "augment_size = data_augment.data.shape[0]\n",
        "drop_aug_size = int(augment_size * augment_part)\n",
        "train_aug_size = augment_size - drop_aug_size\n",
        "data_augment, _ = torch.utils.data.random_split(data_augment, (train_aug_size, drop_aug_size))\n",
        "data_train_plus_aug = torch.utils.data.ConcatDataset([\n",
        "          data_train,\n",
        "          data_augment\n",
        "          ])\n",
        "loader_train = torch.utils.data.DataLoader(data_train_plus_aug, batch_size=batch_size, shuffle=True)\n",
        "\n",
        "loader_test = torch.utils.data.DataLoader(data_test, batch_size=batch_size)\n",
        "\n",
        "\n",
        "loss = nn.CrossEntropyLoss().type(torch.cuda.FloatTensor)\n",
        "#optimizer = optim.SGD(nn_model.parameters(), lr=lr, weight_decay=l2)\n",
        "optimizer = optim.Adam(nn_model.parameters(), lr=lr, weight_decay=l2)\n",
        "#scheduler = optim.lr_scheduler.StepLR(optimizer, anneal_epochs, anneal_coeff)\n",
        "scheduler = optim.lr_scheduler.CosineAnnealingLR(optimizer, epoch_num, eta_min=0)\n",
        "loss_history, train_history, val_history = train_model(nn_model, loader_train, loader_valid, loss, optimizer, epoch_num, scheduler=scheduler)\n",
        "\n",
        "test_accuracy = compute_accuracy(nn_model, loader_test)\n",
        "print(\"Test accuracy: %2.4f\" % test_accuracy)\n",
        "plt.plot(train_history)\n",
        "plt.plot(val_history);"
      ],
      "execution_count": 114,
      "outputs": [
        {
          "output_type": "stream",
          "text": [
            "Epoch: 0, Average loss: 0.579743, Train accuracy: 0.819131, Val accuracy: 0.882807\n",
            "Epoch: 1, Average loss: 0.332303, Train accuracy: 0.898549, Val accuracy: 0.906013\n",
            "Epoch: 2, Average loss: 0.274324, Train accuracy: 0.917178, Val accuracy: 0.907037\n",
            "Epoch: 3, Average loss: 0.219893, Train accuracy: 0.934377, Val accuracy: 0.928196\n",
            "Epoch: 4, Average loss: 0.145212, Train accuracy: 0.957574, Val accuracy: 0.949150\n",
            "Epoch: 5, Average loss: 0.081597, Train accuracy: 0.977631, Val accuracy: 0.965873\n",
            "Test accuracy: 0.9301\n"
          ],
          "name": "stdout"
        },
        {
          "output_type": "display_data",
          "data": {
            "image/png": "[encoded data removed]",
            "text/plain": [
              "<Figure size 432x288 with 1 Axes>"
            ]
          },
          "metadata": {
            "tags": []
          }
        }
      ]
    },
    {
      "cell_type": "markdown",
      "metadata": {
        "id": "8BJIeORHp05R",
        "colab_type": "text"
      },
      "source": [
        "#test 6"
      ]
    },
    {
      "cell_type": "code",
      "metadata": {
        "id": "nAwL6uy1pzoq",
        "colab_type": "code",
        "colab": {
          "base_uri": "https://localhost:8080/",
          "height": 384
        },
        "outputId": "a909b79a-24eb-409b-c72e-668fa0474eb9"
      },
      "source": [
        "lr = 1e-2\n",
        "l2 = 1e-4\n",
        "anneal_coeff = 0.3\n",
        "anneal_epochs = 3\n",
        "batch_size = 512\n",
        "epoch_num = 6\n",
        "validation_split = .2\n",
        "augment_part = .3\n",
        "\n",
        "nn_model = nn.Sequential(\n",
        "            nn.Conv2d(3, 24, 3, padding=1), # 32 -> 32\n",
        "            nn.MaxPool2d(2),\n",
        "            nn.LeakyReLU(inplace=True),\n",
        "            nn.BatchNorm2d(24), # 32 -> 16\n",
        "\n",
        "            nn.Conv2d(24, 64, 3, padding=1), # 16 -> 16\n",
        "            nn.MaxPool2d(2),\n",
        "            nn.LeakyReLU(inplace=True),\n",
        "            nn.BatchNorm2d(64), # 16 -> 8\n",
        "\n",
        "            nn.Conv2d(64, 128, 3, padding=1), # 8 -> 8\n",
        "            nn.MaxPool2d(2),\n",
        "            nn.LeakyReLU(inplace=True),\n",
        "            nn.BatchNorm2d(128), # 8 -> 4\n",
        "\n",
        "            Flattener(),\n",
        "            nn.Linear(128*4*4, 650),\n",
        "            nn.LeakyReLU(inplace=True),\n",
        "            nn.BatchNorm1d(650),\n",
        "\n",
        "            nn.Linear(650, 380),\n",
        "            nn.LeakyReLU(inplace=True),\n",
        "            nn.BatchNorm1d(380),\n",
        "\n",
        "            nn.Linear(380, 120),\n",
        "            nn.LeakyReLU(inplace=True),\n",
        "            nn.BatchNorm1d(120),\n",
        "\n",
        "            nn.Linear(120, 10),\n",
        "          )\n",
        "nn_model.type(torch.cuda.FloatTensor)\n",
        "nn_model.to(device)\n",
        "\n",
        "def init_normal(m):\n",
        "    if type(m) == nn.Linear or type(m) == nn.Conv2d:\n",
        "        nn.init.kaiming_normal_(m.weight, nonlinearity='leaky_relu')\n",
        "nn_model.apply(init_normal)\n",
        "\n",
        "tfs = transforms.Compose([\n",
        "    transforms.ToTensor(),\n",
        "    transforms.Normalize(mean=[0.43,0.44,0.47],\n",
        "                       std=[0.20,0.20,0.20])                           \n",
        "])\n",
        "\n",
        "tfs_augment = transforms.Compose([\n",
        "    transforms.ColorJitter(hue=.10, saturation=.5),\n",
        "    transforms.RandomRotation(10, resample=PIL.Image.BILINEAR),\n",
        "    transforms.ToTensor(),\n",
        "    transforms.Normalize(mean=[0.43,0.44,0.47],\n",
        "                       std=[0.20,0.20,0.20])                           \n",
        "])\n",
        "\n",
        "data_train = dset.SVHN('./', split='train', transform=tfs)\n",
        "data_augment = dset.SVHN('./', split='train', transform=tfs_augment)\n",
        "data_test = dset.SVHN('./', split='test', transform=tfs)\n",
        "\n",
        "data_size = data_train.data.shape[0]\n",
        "valid_size = int(data_size * validation_split)\n",
        "train_size = data_size - valid_size\n",
        "data_train, data_valid = torch.utils.data.random_split(data_train, (train_size, valid_size))\n",
        "loader_valid = torch.utils.data.DataLoader(data_valid, batch_size=batch_size)\n",
        "\n",
        "augment_size = data_augment.data.shape[0]\n",
        "drop_aug_size = int(augment_size * augment_part)\n",
        "train_aug_size = augment_size - drop_aug_size\n",
        "data_augment, _ = torch.utils.data.random_split(data_augment, (train_aug_size, drop_aug_size))\n",
        "data_train_plus_aug = torch.utils.data.ConcatDataset([\n",
        "          data_train,\n",
        "          data_augment\n",
        "          ])\n",
        "loader_train = torch.utils.data.DataLoader(data_train_plus_aug, batch_size=batch_size, shuffle=True)\n",
        "\n",
        "loader_test = torch.utils.data.DataLoader(data_test, batch_size=batch_size)\n",
        "\n",
        "\n",
        "loss = nn.CrossEntropyLoss().type(torch.cuda.FloatTensor)\n",
        "#optimizer = optim.SGD(nn_model.parameters(), lr=lr, weight_decay=l2)\n",
        "optimizer = optim.Adam(nn_model.parameters(), lr=lr, weight_decay=l2)\n",
        "#scheduler = optim.lr_scheduler.StepLR(optimizer, anneal_epochs, anneal_coeff)\n",
        "scheduler = optim.lr_scheduler.CosineAnnealingLR(optimizer, epoch_num, eta_min=0)\n",
        "loss_history, train_history, val_history = train_model(nn_model, loader_train, loader_valid, loss, optimizer, epoch_num, scheduler=scheduler)\n",
        "\n",
        "test_accuracy = compute_accuracy(nn_model, loader_test)\n",
        "print(\"Test accuracy: %2.4f\" % test_accuracy)\n",
        "plt.plot(train_history)\n",
        "plt.plot(val_history);"
      ],
      "execution_count": 117,
      "outputs": [
        {
          "output_type": "stream",
          "text": [
            "Epoch: 0, Average loss: 0.800368, Train accuracy: 0.739803, Val accuracy: 0.899324\n",
            "Epoch: 1, Average loss: 0.303619, Train accuracy: 0.906803, Val accuracy: 0.915842\n",
            "Epoch: 2, Average loss: 0.242727, Train accuracy: 0.928426, Val accuracy: 0.922736\n",
            "Epoch: 3, Average loss: 0.189937, Train accuracy: 0.944033, Val accuracy: 0.934953\n",
            "Epoch: 4, Average loss: 0.121711, Train accuracy: 0.965046, Val accuracy: 0.948672\n",
            "Epoch: 5, Average loss: 0.064370, Train accuracy: 0.982491, Val accuracy: 0.968739\n",
            "Test accuracy: 0.9389\n"
          ],
          "name": "stdout"
        },
        {
          "output_type": "display_data",
          "data": {
            "image/png": "[encoded data removed]",
            "text/plain": [
              "<Figure size 432x288 with 1 Axes>"
            ]
          },
          "metadata": {
            "tags": []
          }
        }
      ]
    },
    {
      "cell_type": "markdown",
      "metadata": {
        "id": "Z3bRhT1nvpCt",
        "colab_type": "text"
      },
      "source": [
        "#test 7"
      ]
    },
    {
      "cell_type": "code",
      "metadata": {
        "id": "v-nPqCrobcPC",
        "colab_type": "code",
        "colab": {
          "base_uri": "https://localhost:8080/",
          "height": 420
        },
        "outputId": "d5cf6219-f47c-4aa3-f78b-07ab3ed5dc3a"
      },
      "source": [
        "lr = 1e-2\n",
        "l2 = 1e-4\n",
        "anneal_coeff = 0.3\n",
        "anneal_epochs = 3\n",
        "batch_size = 512\n",
        "epoch_num = 8\n",
        "validation_split = .2\n",
        "augment_part = .3\n",
        "\n",
        "nn_model = nn.Sequential(\n",
        "            nn.Conv2d(3, 24, 3, padding=1), # 32 -> 32\n",
        "            nn.MaxPool2d(2),\n",
        "            nn.LeakyReLU(inplace=True),\n",
        "            nn.BatchNorm2d(24), # 32 -> 16\n",
        "\n",
        "            nn.Conv2d(24, 64, 3, padding=1), # 16 -> 16\n",
        "            nn.MaxPool2d(2),\n",
        "            nn.LeakyReLU(inplace=True),\n",
        "            nn.BatchNorm2d(64), # 16 -> 8\n",
        "\n",
        "            nn.Conv2d(64, 128, 3, padding=1), # 8 -> 8\n",
        "            nn.MaxPool2d(2),\n",
        "            nn.LeakyReLU(inplace=True),\n",
        "            nn.BatchNorm2d(128), # 8 -> 4\n",
        "\n",
        "            Flattener(),\n",
        "            nn.Linear(128*4*4, 650),\n",
        "            nn.LeakyReLU(inplace=True),\n",
        "            nn.BatchNorm1d(650),\n",
        "\n",
        "            nn.Linear(650, 380),\n",
        "            nn.LeakyReLU(inplace=True),\n",
        "            nn.BatchNorm1d(380),\n",
        "\n",
        "            nn.Linear(380, 120),\n",
        "            nn.LeakyReLU(inplace=True),\n",
        "            nn.BatchNorm1d(120),\n",
        "\n",
        "            nn.Linear(120, 10),\n",
        "          )\n",
        "nn_model.type(torch.cuda.FloatTensor)\n",
        "nn_model.to(device)\n",
        "\n",
        "def init_normal(m):\n",
        "    if type(m) == nn.Linear or type(m) == nn.Conv2d:\n",
        "        nn.init.kaiming_normal_(m.weight, nonlinearity='leaky_relu')\n",
        "nn_model.apply(init_normal)\n",
        "\n",
        "tfs = transforms.Compose([\n",
        "    transforms.ToTensor(),\n",
        "    transforms.Normalize(mean=[0.43,0.44,0.47],\n",
        "                       std=[0.20,0.20,0.20])                           \n",
        "])\n",
        "\n",
        "tfs_augment = transforms.Compose([\n",
        "    transforms.ColorJitter(hue=.10, saturation=.5),\n",
        "    transforms.RandomRotation(10, resample=PIL.Image.BILINEAR),\n",
        "    transforms.ToTensor(),\n",
        "    transforms.Normalize(mean=[0.43,0.44,0.47],\n",
        "                       std=[0.20,0.20,0.20])                           \n",
        "])\n",
        "\n",
        "data_train = dset.SVHN('./', split='train', transform=tfs)\n",
        "data_augment = dset.SVHN('./', split='train', transform=tfs_augment)\n",
        "data_test = dset.SVHN('./', split='test', transform=tfs)\n",
        "\n",
        "data_size = data_train.data.shape[0]\n",
        "valid_size = int(data_size * validation_split)\n",
        "train_size = data_size - valid_size\n",
        "data_train, data_valid = torch.utils.data.random_split(data_train, (train_size, valid_size))\n",
        "loader_valid = torch.utils.data.DataLoader(data_valid, batch_size=batch_size)\n",
        "\n",
        "augment_size = data_augment.data.shape[0]\n",
        "drop_aug_size = int(augment_size * augment_part)\n",
        "train_aug_size = augment_size - drop_aug_size\n",
        "data_augment, _ = torch.utils.data.random_split(data_augment, (train_aug_size, drop_aug_size))\n",
        "data_train_plus_aug = torch.utils.data.ConcatDataset([\n",
        "          data_train,\n",
        "          data_augment\n",
        "          ])\n",
        "loader_train = torch.utils.data.DataLoader(data_train_plus_aug, batch_size=batch_size, shuffle=True)\n",
        "\n",
        "loader_test = torch.utils.data.DataLoader(data_test, batch_size=batch_size)\n",
        "\n",
        "\n",
        "loss = nn.CrossEntropyLoss().type(torch.cuda.FloatTensor)\n",
        "#optimizer = optim.SGD(nn_model.parameters(), lr=lr, weight_decay=l2)\n",
        "optimizer = optim.Adam(nn_model.parameters(), lr=lr, weight_decay=l2)\n",
        "#scheduler = optim.lr_scheduler.StepLR(optimizer, anneal_epochs, anneal_coeff)\n",
        "scheduler = optim.lr_scheduler.CosineAnnealingLR(optimizer, epoch_num, eta_min=0)\n",
        "loss_history, train_history, val_history = train_model(nn_model, loader_train, loader_valid, loss, optimizer, epoch_num, scheduler=scheduler)\n",
        "\n",
        "test_accuracy = compute_accuracy(nn_model, loader_test)\n",
        "print(\"Test accuracy: %2.4f\" % test_accuracy)\n",
        "plt.plot(train_history)\n",
        "plt.plot(val_history);"
      ],
      "execution_count": 121,
      "outputs": [
        {
          "output_type": "stream",
          "text": [
            "Epoch: 0, Average loss: 0.812784, Train accuracy: 0.735289, Val accuracy: 0.892499\n",
            "Epoch: 1, Average loss: 0.311723, Train accuracy: 0.905757, Val accuracy: 0.914409\n",
            "Epoch: 2, Average loss: 0.256629, Train accuracy: 0.922511, Val accuracy: 0.919255\n",
            "Epoch: 3, Average loss: 0.215785, Train accuracy: 0.936825, Val accuracy: 0.934612\n",
            "Epoch: 4, Average loss: 0.174768, Train accuracy: 0.948428, Val accuracy: 0.943622\n",
            "Epoch: 5, Average loss: 0.126281, Train accuracy: 0.962789, Val accuracy: 0.955907\n",
            "Epoch: 6, Average loss: 0.069511, Train accuracy: 0.980216, Val accuracy: 0.968057\n",
            "Epoch: 7, Average loss: 0.034965, Train accuracy: 0.990436, Val accuracy: 0.977066\n",
            "Test accuracy: 0.9413\n"
          ],
          "name": "stdout"
        },
        {
          "output_type": "display_data",
          "data": {
            "image/png": "[encoded data removed]",
            "text/plain": [
              "<Figure size 432x288 with 1 Axes>"
            ]
          },
          "metadata": {
            "tags": []
          }
        }
      ]
    },
    {
      "cell_type": "code",
      "metadata": {
        "id": "dDHBD5Oavu3s",
        "colab_type": "code",
        "colab": {}
      },
      "source": [
        ""
      ],
      "execution_count": 0,
      "outputs": []
    }
  ]
}